{
 "cells": [
  {
   "cell_type": "code",
   "execution_count": 70,
   "id": "75d15121",
   "metadata": {},
   "outputs": [
    {
     "name": "stdout",
     "output_type": "stream",
     "text": [
      "Requirement already satisfied: selenium in c:\\programdata\\anaconda3\\lib\\site-packages (4.1.0)\n",
      "Requirement already satisfied: trio~=0.17 in c:\\programdata\\anaconda3\\lib\\site-packages (from selenium) (0.19.0)\n",
      "Requirement already satisfied: trio-websocket~=0.9 in c:\\programdata\\anaconda3\\lib\\site-packages (from selenium) (0.9.2)\n",
      "Requirement already satisfied: urllib3[secure]~=1.26 in c:\\programdata\\anaconda3\\lib\\site-packages (from selenium) (1.26.4)\n",
      "Requirement already satisfied: async-generator>=1.9 in c:\\programdata\\anaconda3\\lib\\site-packages (from trio~=0.17->selenium) (1.10)\n",
      "Requirement already satisfied: attrs>=19.2.0 in c:\\programdata\\anaconda3\\lib\\site-packages (from trio~=0.17->selenium) (20.3.0)\n",
      "Requirement already satisfied: sniffio in c:\\programdata\\anaconda3\\lib\\site-packages (from trio~=0.17->selenium) (1.2.0)\n",
      "Requirement already satisfied: cffi>=1.14 in c:\\programdata\\anaconda3\\lib\\site-packages (from trio~=0.17->selenium) (1.14.5)\n",
      "Requirement already satisfied: outcome in c:\\programdata\\anaconda3\\lib\\site-packages (from trio~=0.17->selenium) (1.1.0)\n",
      "Requirement already satisfied: idna in c:\\programdata\\anaconda3\\lib\\site-packages (from trio~=0.17->selenium) (2.10)\n",
      "Requirement already satisfied: sortedcontainers in c:\\programdata\\anaconda3\\lib\\site-packages (from trio~=0.17->selenium) (2.3.0)\n",
      "Requirement already satisfied: pycparser in c:\\programdata\\anaconda3\\lib\\site-packages (from cffi>=1.14->trio~=0.17->selenium) (2.20)\n",
      "Requirement already satisfied: wsproto>=0.14 in c:\\programdata\\anaconda3\\lib\\site-packages (from trio-websocket~=0.9->selenium) (1.0.0)\n",
      "Requirement already satisfied: pyOpenSSL>=0.14 in c:\\programdata\\anaconda3\\lib\\site-packages (from urllib3[secure]~=1.26->selenium) (20.0.1)\n",
      "Requirement already satisfied: certifi in c:\\programdata\\anaconda3\\lib\\site-packages (from urllib3[secure]~=1.26->selenium) (2020.12.5)\n",
      "Requirement already satisfied: cryptography>=1.3.4 in c:\\programdata\\anaconda3\\lib\\site-packages (from urllib3[secure]~=1.26->selenium) (3.4.7)\n",
      "Requirement already satisfied: six>=1.5.2 in c:\\programdata\\anaconda3\\lib\\site-packages (from pyOpenSSL>=0.14->urllib3[secure]~=1.26->selenium) (1.15.0)\n",
      "Requirement already satisfied: h11<1,>=0.9.0 in c:\\programdata\\anaconda3\\lib\\site-packages (from wsproto>=0.14->trio-websocket~=0.9->selenium) (0.12.0)\n"
     ]
    }
   ],
   "source": [
    "!pip install selenium"
   ]
  },
  {
   "cell_type": "code",
   "execution_count": 71,
   "id": "e7b187c3",
   "metadata": {},
   "outputs": [],
   "source": [
    "import selenium\n",
    "from selenium import webdriver\n",
    "import pandas as pd\n",
    "import warnings\n",
    "warnings.filterwarnings(\"ignore\")"
   ]
  },
  {
   "cell_type": "code",
   "execution_count": 72,
   "id": "1493bcc0",
   "metadata": {},
   "outputs": [],
   "source": [
    "driver = webdriver.Chrome(r'C:\\Users\\Tushar\\Downloads\\chromedriver_win32\\chromedriver.exe')"
   ]
  },
  {
   "cell_type": "code",
   "execution_count": 73,
   "id": "63f65bed",
   "metadata": {},
   "outputs": [],
   "source": [
    "driver = webdriver.Chrome ('chromedriver.exe')"
   ]
  },
  {
   "cell_type": "code",
   "execution_count": 74,
   "id": "f3a929c1",
   "metadata": {},
   "outputs": [],
   "source": [
    "url = 'https://www.naukri.com/'\n",
    "driver.get(url)"
   ]
  },
  {
   "cell_type": "code",
   "execution_count": 75,
   "id": "1882a17d",
   "metadata": {},
   "outputs": [
    {
     "data": {
      "text/plain": [
       "<selenium.webdriver.remote.webelement.WebElement (session=\"4092d77d113dd4814c7761d0419f7f50\", element=\"01e65b87-1530-41d0-986d-ee45727ea979\")>"
      ]
     },
     "execution_count": 75,
     "metadata": {},
     "output_type": "execute_result"
    }
   ],
   "source": [
    "search_job = driver.find_element_by_id(\"qsb-keyword-sugg\")\n",
    "search_job"
   ]
  },
  {
   "cell_type": "code",
   "execution_count": 76,
   "id": "6b73bdce",
   "metadata": {},
   "outputs": [],
   "source": [
    "#write on search bar\n",
    "search_job.send_keys(\"Data Analyst\")"
   ]
  },
  {
   "cell_type": "code",
   "execution_count": 78,
   "id": "b297802c",
   "metadata": {},
   "outputs": [
    {
     "data": {
      "text/plain": [
       "<selenium.webdriver.remote.webelement.WebElement (session=\"4092d77d113dd4814c7761d0419f7f50\", element=\"ad42aa9a-6576-4f24-bf45-41574c4a1ed8\")>"
      ]
     },
     "execution_count": 78,
     "metadata": {},
     "output_type": "execute_result"
    }
   ],
   "source": [
    "# finding web elements for search locn bar using absoulate xpath\n",
    "search_locn = driver.find_element_by_xpath('/html/body/div[1]/div[3]/div[2]/section/div/form/div[2]/div/div/div/div[1]/div[2]/input')\n",
    "search_locn"
   ]
  },
  {
   "cell_type": "code",
   "execution_count": 79,
   "id": "cdf13802",
   "metadata": {},
   "outputs": [],
   "source": [
    "# finding web element for job location bar\n",
    "search_locn.send_keys(\"Bangalore\")"
   ]
  },
  {
   "cell_type": "code",
   "execution_count": 80,
   "id": "163dad2e",
   "metadata": {},
   "outputs": [
    {
     "data": {
      "text/plain": [
       "<selenium.webdriver.remote.webelement.WebElement (session=\"4092d77d113dd4814c7761d0419f7f50\", element=\"dbdf2503-0352-4cb8-a0c7-62542aeefa7d\")>"
      ]
     },
     "execution_count": 80,
     "metadata": {},
     "output_type": "execute_result"
    }
   ],
   "source": [
    "# clicking using absolute xpath function\n",
    "search_btn = driver.find_element_by_xpath('/html/body/div[1]/div[3]/div[2]/section/div/form/div[3]/button')\n",
    "search_btn"
   ]
  },
  {
   "cell_type": "code",
   "execution_count": 81,
   "id": "a8304707",
   "metadata": {},
   "outputs": [],
   "source": [
    "search_btn.click()"
   ]
  },
  {
   "cell_type": "code",
   "execution_count": 82,
   "id": "e2f68878",
   "metadata": {},
   "outputs": [
    {
     "data": {
      "text/plain": [
       "[<selenium.webdriver.remote.webelement.WebElement (session=\"4092d77d113dd4814c7761d0419f7f50\", element=\"b8066d8e-4760-4a76-97db-1767b13e8332\")>,\n",
       " <selenium.webdriver.remote.webelement.WebElement (session=\"4092d77d113dd4814c7761d0419f7f50\", element=\"9ef305d2-c3d9-4c81-a389-9ba7cae64978\")>,\n",
       " <selenium.webdriver.remote.webelement.WebElement (session=\"4092d77d113dd4814c7761d0419f7f50\", element=\"4e75bdf1-4384-4c9a-a2d7-4b1b6287c3df\")>,\n",
       " <selenium.webdriver.remote.webelement.WebElement (session=\"4092d77d113dd4814c7761d0419f7f50\", element=\"8f1c60a2-1c22-4b59-b273-d379081a7b27\")>,\n",
       " <selenium.webdriver.remote.webelement.WebElement (session=\"4092d77d113dd4814c7761d0419f7f50\", element=\"639cebcd-683a-4057-99b3-6343fea56a00\")>,\n",
       " <selenium.webdriver.remote.webelement.WebElement (session=\"4092d77d113dd4814c7761d0419f7f50\", element=\"3fa0a66e-4594-40ae-8eeb-9e49933fca14\")>,\n",
       " <selenium.webdriver.remote.webelement.WebElement (session=\"4092d77d113dd4814c7761d0419f7f50\", element=\"274a2cac-092d-4e91-b04a-380e5de1f0e6\")>,\n",
       " <selenium.webdriver.remote.webelement.WebElement (session=\"4092d77d113dd4814c7761d0419f7f50\", element=\"db557163-721a-45a0-b5ca-6a7cc86ca65d\")>,\n",
       " <selenium.webdriver.remote.webelement.WebElement (session=\"4092d77d113dd4814c7761d0419f7f50\", element=\"d05c1960-42f2-4734-9b49-264e3fd5f14d\")>,\n",
       " <selenium.webdriver.remote.webelement.WebElement (session=\"4092d77d113dd4814c7761d0419f7f50\", element=\"b3ce43cd-37d1-49b8-9358-f91445130f75\")>]"
      ]
     },
     "execution_count": 82,
     "metadata": {},
     "output_type": "execute_result"
    }
   ],
   "source": [
    "# extract web elements having job titles\n",
    "title_tags = driver.find_elements_by_xpath('//a[@class=\"title fw500 ellipsis\"]')\n",
    "len(title_tags)\n",
    "title_tags[0:10]"
   ]
  },
  {
   "cell_type": "code",
   "execution_count": 84,
   "id": "4c302d59",
   "metadata": {},
   "outputs": [
    {
     "data": {
      "text/plain": [
       "['Senior Data Analyst - Supporting Audits',\n",
       " 'Senior Data Analyst',\n",
       " 'Financial Data Analyst',\n",
       " 'Tcs Hiring For Data Analyst / Engineers',\n",
       " 'Data Analyst',\n",
       " 'Business Data Analyst - Database Design/Mining',\n",
       " 'Financial Data Analyst',\n",
       " 'Senior Data Analyst',\n",
       " 'Senior Data Analyst',\n",
       " 'Senior Data Analyst']"
      ]
     },
     "execution_count": 84,
     "metadata": {},
     "output_type": "execute_result"
    }
   ],
   "source": [
    "job_titles = []\n",
    "for i in title_tags:\n",
    "    job_titles.append(i.text)\n",
    "len(job_titles)\n",
    "job_titles[0:10]"
   ]
  },
  {
   "cell_type": "code",
   "execution_count": 85,
   "id": "d776b58d",
   "metadata": {},
   "outputs": [
    {
     "data": {
      "text/plain": [
       "[<selenium.webdriver.remote.webelement.WebElement (session=\"4092d77d113dd4814c7761d0419f7f50\", element=\"6451c5b8-7ab3-47c0-8fbe-ff6599085ef5\")>,\n",
       " <selenium.webdriver.remote.webelement.WebElement (session=\"4092d77d113dd4814c7761d0419f7f50\", element=\"42186255-1afa-418d-8fec-0c40462eee72\")>,\n",
       " <selenium.webdriver.remote.webelement.WebElement (session=\"4092d77d113dd4814c7761d0419f7f50\", element=\"d5f1696b-df2a-4248-92f6-6404de561f5c\")>,\n",
       " <selenium.webdriver.remote.webelement.WebElement (session=\"4092d77d113dd4814c7761d0419f7f50\", element=\"799b189d-e1c8-403f-a9a1-67e8d6ac987e\")>,\n",
       " <selenium.webdriver.remote.webelement.WebElement (session=\"4092d77d113dd4814c7761d0419f7f50\", element=\"0064ecb5-af35-470b-ab55-4591ca6c0c46\")>,\n",
       " <selenium.webdriver.remote.webelement.WebElement (session=\"4092d77d113dd4814c7761d0419f7f50\", element=\"02003818-1994-4f6c-ac31-90984339e2b5\")>,\n",
       " <selenium.webdriver.remote.webelement.WebElement (session=\"4092d77d113dd4814c7761d0419f7f50\", element=\"77747808-3024-4bd0-8224-02819442c2e9\")>,\n",
       " <selenium.webdriver.remote.webelement.WebElement (session=\"4092d77d113dd4814c7761d0419f7f50\", element=\"fa9dd2f8-3e73-46be-b745-adf77ee85d1a\")>,\n",
       " <selenium.webdriver.remote.webelement.WebElement (session=\"4092d77d113dd4814c7761d0419f7f50\", element=\"dcd8f20e-dd7a-4649-8ccb-8beca853d3ba\")>,\n",
       " <selenium.webdriver.remote.webelement.WebElement (session=\"4092d77d113dd4814c7761d0419f7f50\", element=\"8d5364e4-5b05-4023-b639-be1cb8166828\")>]"
      ]
     },
     "execution_count": 85,
     "metadata": {},
     "output_type": "execute_result"
    }
   ],
   "source": [
    "company_tags = driver.find_elements_by_xpath('//a[@class=\"subTitle ellipsis fleft\"]')\n",
    "len(company_tags)\n",
    "company_tags[0:10]"
   ]
  },
  {
   "cell_type": "code",
   "execution_count": 86,
   "id": "c39e17ff",
   "metadata": {},
   "outputs": [
    {
     "data": {
      "text/plain": [
       "['Visa',\n",
       " 'Schneider Electric',\n",
       " \"Moody's\",\n",
       " 'Tata Consultancy Services Ltd.',\n",
       " 'WEIWO Communication Pvt. Ltd.',\n",
       " 'AugmatrixGo',\n",
       " \"Moody's\",\n",
       " 'Arcworth Strategy LLP',\n",
       " 'Spectraforce Technologies',\n",
       " 'Flipkart']"
      ]
     },
     "execution_count": 86,
     "metadata": {},
     "output_type": "execute_result"
    }
   ],
   "source": [
    "company_names = []\n",
    "\n",
    "for i in company_tags:\n",
    "    company_names.append(i.text)\n",
    "len(company_names)\n",
    "company_names[0:10]"
   ]
  },
  {
   "cell_type": "code",
   "execution_count": 87,
   "id": "501b5698",
   "metadata": {},
   "outputs": [
    {
     "data": {
      "text/plain": [
       "[<selenium.webdriver.remote.webelement.WebElement (session=\"4092d77d113dd4814c7761d0419f7f50\", element=\"0967d548-d802-4aa5-b2ae-e2d641695db1\")>,\n",
       " <selenium.webdriver.remote.webelement.WebElement (session=\"4092d77d113dd4814c7761d0419f7f50\", element=\"6830132e-2296-4b41-9b37-68f16907f938\")>,\n",
       " <selenium.webdriver.remote.webelement.WebElement (session=\"4092d77d113dd4814c7761d0419f7f50\", element=\"83b1da58-7ff0-4ba0-8912-ed4fb97bcd24\")>,\n",
       " <selenium.webdriver.remote.webelement.WebElement (session=\"4092d77d113dd4814c7761d0419f7f50\", element=\"7332feec-b7c7-4909-9403-d0cafbcfdacf\")>,\n",
       " <selenium.webdriver.remote.webelement.WebElement (session=\"4092d77d113dd4814c7761d0419f7f50\", element=\"cd72870b-6d87-45c0-836e-ab9f4ccb5cde\")>,\n",
       " <selenium.webdriver.remote.webelement.WebElement (session=\"4092d77d113dd4814c7761d0419f7f50\", element=\"3f06003a-6f88-4220-a588-7eb7aa80832c\")>,\n",
       " <selenium.webdriver.remote.webelement.WebElement (session=\"4092d77d113dd4814c7761d0419f7f50\", element=\"c27eb06e-03ca-446f-94e1-1162da07690e\")>,\n",
       " <selenium.webdriver.remote.webelement.WebElement (session=\"4092d77d113dd4814c7761d0419f7f50\", element=\"f40a6aac-afe3-4be0-bb5a-c6b07ac6fbcb\")>,\n",
       " <selenium.webdriver.remote.webelement.WebElement (session=\"4092d77d113dd4814c7761d0419f7f50\", element=\"c8b6a84f-75c8-4742-b6b5-50a523c08635\")>,\n",
       " <selenium.webdriver.remote.webelement.WebElement (session=\"4092d77d113dd4814c7761d0419f7f50\", element=\"b2162fa3-da1c-40d6-ad98-339b5d84cf59\")>]"
      ]
     },
     "execution_count": 87,
     "metadata": {},
     "output_type": "execute_result"
    }
   ],
   "source": [
    "exp_tags = driver.find_elements_by_xpath('//li[@class=\"fleft grey-text br2 placeHolderLi experience\"]')\n",
    "len(exp_tags)\n",
    "exp_tags[0:10]"
   ]
  },
  {
   "cell_type": "code",
   "execution_count": 93,
   "id": "2626d7c6",
   "metadata": {},
   "outputs": [
    {
     "data": {
      "text/plain": [
       "['5-8 Yrs',\n",
       " '0-2 Yrs',\n",
       " '0-2 Yrs',\n",
       " '4-9 Yrs',\n",
       " '2-7 Yrs',\n",
       " '2-5 Yrs',\n",
       " '0-2 Yrs',\n",
       " '2-4 Yrs',\n",
       " '5-10 Yrs',\n",
       " '2-3 Yrs']"
      ]
     },
     "execution_count": 93,
     "metadata": {},
     "output_type": "execute_result"
    }
   ],
   "source": [
    "experience = []\n",
    "for i in exp_tags:\n",
    "    experience.append(i.text)\n",
    "len(experience)\n",
    "experience[0:10]"
   ]
  },
  {
   "cell_type": "code",
   "execution_count": 94,
   "id": "de8cba30",
   "metadata": {},
   "outputs": [
    {
     "data": {
      "text/plain": [
       "[<selenium.webdriver.remote.webelement.WebElement (session=\"4092d77d113dd4814c7761d0419f7f50\", element=\"87467cf6-8b87-4bcc-884a-241f84734568\")>,\n",
       " <selenium.webdriver.remote.webelement.WebElement (session=\"4092d77d113dd4814c7761d0419f7f50\", element=\"008e6465-07ad-40e6-8d26-8cef15433237\")>,\n",
       " <selenium.webdriver.remote.webelement.WebElement (session=\"4092d77d113dd4814c7761d0419f7f50\", element=\"9a413f51-cbf5-4dc8-bdd7-6580bcbbb56d\")>,\n",
       " <selenium.webdriver.remote.webelement.WebElement (session=\"4092d77d113dd4814c7761d0419f7f50\", element=\"b4822b56-5df4-4816-90ea-01945c68f1a3\")>,\n",
       " <selenium.webdriver.remote.webelement.WebElement (session=\"4092d77d113dd4814c7761d0419f7f50\", element=\"7b7e01a1-c421-49ab-983a-be4ff0b46a54\")>,\n",
       " <selenium.webdriver.remote.webelement.WebElement (session=\"4092d77d113dd4814c7761d0419f7f50\", element=\"6d693da5-f803-43d9-9fab-0cceaa25949f\")>,\n",
       " <selenium.webdriver.remote.webelement.WebElement (session=\"4092d77d113dd4814c7761d0419f7f50\", element=\"9362a0bd-0ea3-47b0-b840-103f929b7917\")>,\n",
       " <selenium.webdriver.remote.webelement.WebElement (session=\"4092d77d113dd4814c7761d0419f7f50\", element=\"33b2d63b-0ba6-4173-8051-b715af19a0eb\")>,\n",
       " <selenium.webdriver.remote.webelement.WebElement (session=\"4092d77d113dd4814c7761d0419f7f50\", element=\"3482cda4-5830-46f8-af82-215909733b2b\")>,\n",
       " <selenium.webdriver.remote.webelement.WebElement (session=\"4092d77d113dd4814c7761d0419f7f50\", element=\"1a4130de-216c-4ff8-9219-f02500886d1f\")>]"
      ]
     },
     "execution_count": 94,
     "metadata": {},
     "output_type": "execute_result"
    }
   ],
   "source": [
    "#extracting location\n",
    "locn_tags = driver.find_elements_by_xpath('//li[@class=\"fleft grey-text br2 placeHolderLi location\"]')\n",
    "len(locn_tags)\n",
    "locn_tags[0:10]"
   ]
  },
  {
   "cell_type": "code",
   "execution_count": 95,
   "id": "f650f8bc",
   "metadata": {},
   "outputs": [
    {
     "data": {
      "text/plain": [
       "['Bangalore/Bengaluru',\n",
       " 'Bangalore/Bengaluru',\n",
       " 'Bangalore/Bengaluru',\n",
       " 'Pune, Bangalore/Bengaluru, Delhi / NCR',\n",
       " 'Bangalore/Bengaluru(Ulsoor)',\n",
       " 'Bangalore/Bengaluru',\n",
       " 'Bangalore/Bengaluru',\n",
       " 'Remote',\n",
       " 'Bangalore/Bengaluru',\n",
       " 'Bengaluru/Bangalore']"
      ]
     },
     "execution_count": 95,
     "metadata": {},
     "output_type": "execute_result"
    }
   ],
   "source": [
    "location = []\n",
    "for i in locn_tags:\n",
    "    location.append(i.text)\n",
    "len(location)\n",
    "location[0:10]"
   ]
  },
  {
   "cell_type": "code",
   "execution_count": 96,
   "id": "a4360e35",
   "metadata": {},
   "outputs": [
    {
     "data": {
      "text/plain": [
       "(20, 20, 20, 20)"
      ]
     },
     "execution_count": 96,
     "metadata": {},
     "output_type": "execute_result"
    }
   ],
   "source": [
    "len(job_titles) , len(company_names), len(experience), len(location)"
   ]
  },
  {
   "cell_type": "code",
   "execution_count": 100,
   "id": "5c66fc50",
   "metadata": {},
   "outputs": [
    {
     "data": {
      "text/html": [
       "<div>\n",
       "<style scoped>\n",
       "    .dataframe tbody tr th:only-of-type {\n",
       "        vertical-align: middle;\n",
       "    }\n",
       "\n",
       "    .dataframe tbody tr th {\n",
       "        vertical-align: top;\n",
       "    }\n",
       "\n",
       "    .dataframe thead th {\n",
       "        text-align: right;\n",
       "    }\n",
       "</style>\n",
       "<table border=\"1\" class=\"dataframe\">\n",
       "  <thead>\n",
       "    <tr style=\"text-align: right;\">\n",
       "      <th></th>\n",
       "      <th>Job Title</th>\n",
       "      <th>Company</th>\n",
       "      <th>Experience</th>\n",
       "      <th>Location</th>\n",
       "    </tr>\n",
       "  </thead>\n",
       "  <tbody>\n",
       "    <tr>\n",
       "      <th>0</th>\n",
       "      <td>Senior Data Analyst - Supporting Audits</td>\n",
       "      <td>Visa</td>\n",
       "      <td>5-8 Yrs</td>\n",
       "      <td>Bangalore/Bengaluru</td>\n",
       "    </tr>\n",
       "    <tr>\n",
       "      <th>1</th>\n",
       "      <td>Senior Data Analyst</td>\n",
       "      <td>Schneider Electric</td>\n",
       "      <td>0-2 Yrs</td>\n",
       "      <td>Bangalore/Bengaluru</td>\n",
       "    </tr>\n",
       "    <tr>\n",
       "      <th>2</th>\n",
       "      <td>Financial Data Analyst</td>\n",
       "      <td>Moody's</td>\n",
       "      <td>0-2 Yrs</td>\n",
       "      <td>Bangalore/Bengaluru</td>\n",
       "    </tr>\n",
       "    <tr>\n",
       "      <th>3</th>\n",
       "      <td>Tcs Hiring For Data Analyst / Engineers</td>\n",
       "      <td>Tata Consultancy Services Ltd.</td>\n",
       "      <td>4-9 Yrs</td>\n",
       "      <td>Pune, Bangalore/Bengaluru, Delhi / NCR</td>\n",
       "    </tr>\n",
       "    <tr>\n",
       "      <th>4</th>\n",
       "      <td>Data Analyst</td>\n",
       "      <td>WEIWO Communication Pvt. Ltd.</td>\n",
       "      <td>2-7 Yrs</td>\n",
       "      <td>Bangalore/Bengaluru(Ulsoor)</td>\n",
       "    </tr>\n",
       "    <tr>\n",
       "      <th>5</th>\n",
       "      <td>Business Data Analyst - Database Design/Mining</td>\n",
       "      <td>AugmatrixGo</td>\n",
       "      <td>2-5 Yrs</td>\n",
       "      <td>Bangalore/Bengaluru</td>\n",
       "    </tr>\n",
       "    <tr>\n",
       "      <th>6</th>\n",
       "      <td>Financial Data Analyst</td>\n",
       "      <td>Moody's</td>\n",
       "      <td>0-2 Yrs</td>\n",
       "      <td>Bangalore/Bengaluru</td>\n",
       "    </tr>\n",
       "    <tr>\n",
       "      <th>7</th>\n",
       "      <td>Senior Data Analyst</td>\n",
       "      <td>Arcworth Strategy LLP</td>\n",
       "      <td>2-4 Yrs</td>\n",
       "      <td>Remote</td>\n",
       "    </tr>\n",
       "    <tr>\n",
       "      <th>8</th>\n",
       "      <td>Senior Data Analyst</td>\n",
       "      <td>Spectraforce Technologies</td>\n",
       "      <td>5-10 Yrs</td>\n",
       "      <td>Bangalore/Bengaluru</td>\n",
       "    </tr>\n",
       "    <tr>\n",
       "      <th>9</th>\n",
       "      <td>Senior Data Analyst</td>\n",
       "      <td>Flipkart</td>\n",
       "      <td>2-3 Yrs</td>\n",
       "      <td>Bengaluru/Bangalore</td>\n",
       "    </tr>\n",
       "    <tr>\n",
       "      <th>10</th>\n",
       "      <td>Senior Data Analyst II</td>\n",
       "      <td>Flipkart</td>\n",
       "      <td>3-7 Yrs</td>\n",
       "      <td>Bengaluru/Bangalore</td>\n",
       "    </tr>\n",
       "    <tr>\n",
       "      <th>11</th>\n",
       "      <td>Senior Data Analyst II</td>\n",
       "      <td>Flipkart</td>\n",
       "      <td>5-7 Yrs</td>\n",
       "      <td>Bangalore/Bengaluru</td>\n",
       "    </tr>\n",
       "    <tr>\n",
       "      <th>12</th>\n",
       "      <td>Data Analyst I</td>\n",
       "      <td>Cerner Corporation</td>\n",
       "      <td>5-8 Yrs</td>\n",
       "      <td>Bangalore/Bengaluru</td>\n",
       "    </tr>\n",
       "    <tr>\n",
       "      <th>13</th>\n",
       "      <td>Hiring experienced Data Analysts (2-5 yrs) at ...</td>\n",
       "      <td>SounderGrad</td>\n",
       "      <td>2-5 Yrs</td>\n",
       "      <td>Remote</td>\n",
       "    </tr>\n",
       "    <tr>\n",
       "      <th>14</th>\n",
       "      <td>Data Analyst</td>\n",
       "      <td>GSK India</td>\n",
       "      <td>7-10 Yrs</td>\n",
       "      <td>Bangalore/Bengaluru</td>\n",
       "    </tr>\n",
       "    <tr>\n",
       "      <th>15</th>\n",
       "      <td>Data Analyst - Internal Audit</td>\n",
       "      <td>Uber</td>\n",
       "      <td>1-3 Yrs</td>\n",
       "      <td>Bangalore/Bengaluru</td>\n",
       "    </tr>\n",
       "    <tr>\n",
       "      <th>16</th>\n",
       "      <td>Data Analyst</td>\n",
       "      <td>GSK India</td>\n",
       "      <td>7-10 Yrs</td>\n",
       "      <td>Bangalore/Bengaluru</td>\n",
       "    </tr>\n",
       "    <tr>\n",
       "      <th>17</th>\n",
       "      <td>Financial Data Analyst - Mandarin Language</td>\n",
       "      <td>Moody's</td>\n",
       "      <td>0-2 Yrs</td>\n",
       "      <td>Bangalore/Bengaluru</td>\n",
       "    </tr>\n",
       "    <tr>\n",
       "      <th>18</th>\n",
       "      <td>Global Business Data Analyst</td>\n",
       "      <td>Schneider Electric</td>\n",
       "      <td>2-5 Yrs</td>\n",
       "      <td>Bangalore/Bengaluru</td>\n",
       "    </tr>\n",
       "    <tr>\n",
       "      <th>19</th>\n",
       "      <td>Senior Data Analyst</td>\n",
       "      <td>BlueOptima</td>\n",
       "      <td>2-6 Yrs</td>\n",
       "      <td>Bangalore/Bengaluru</td>\n",
       "    </tr>\n",
       "  </tbody>\n",
       "</table>\n",
       "</div>"
      ],
      "text/plain": [
       "                                            Job Title  \\\n",
       "0             Senior Data Analyst - Supporting Audits   \n",
       "1                                 Senior Data Analyst   \n",
       "2                              Financial Data Analyst   \n",
       "3             Tcs Hiring For Data Analyst / Engineers   \n",
       "4                                        Data Analyst   \n",
       "5      Business Data Analyst - Database Design/Mining   \n",
       "6                              Financial Data Analyst   \n",
       "7                                 Senior Data Analyst   \n",
       "8                                 Senior Data Analyst   \n",
       "9                                 Senior Data Analyst   \n",
       "10                             Senior Data Analyst II   \n",
       "11                             Senior Data Analyst II   \n",
       "12                                     Data Analyst I   \n",
       "13  Hiring experienced Data Analysts (2-5 yrs) at ...   \n",
       "14                                       Data Analyst   \n",
       "15                      Data Analyst - Internal Audit   \n",
       "16                                       Data Analyst   \n",
       "17         Financial Data Analyst - Mandarin Language   \n",
       "18                       Global Business Data Analyst   \n",
       "19                                Senior Data Analyst   \n",
       "\n",
       "                           Company Experience  \\\n",
       "0                             Visa    5-8 Yrs   \n",
       "1               Schneider Electric    0-2 Yrs   \n",
       "2                          Moody's    0-2 Yrs   \n",
       "3   Tata Consultancy Services Ltd.    4-9 Yrs   \n",
       "4    WEIWO Communication Pvt. Ltd.    2-7 Yrs   \n",
       "5                      AugmatrixGo    2-5 Yrs   \n",
       "6                          Moody's    0-2 Yrs   \n",
       "7            Arcworth Strategy LLP    2-4 Yrs   \n",
       "8        Spectraforce Technologies   5-10 Yrs   \n",
       "9                         Flipkart    2-3 Yrs   \n",
       "10                        Flipkart    3-7 Yrs   \n",
       "11                        Flipkart    5-7 Yrs   \n",
       "12              Cerner Corporation    5-8 Yrs   \n",
       "13                     SounderGrad    2-5 Yrs   \n",
       "14                       GSK India   7-10 Yrs   \n",
       "15                            Uber    1-3 Yrs   \n",
       "16                       GSK India   7-10 Yrs   \n",
       "17                         Moody's    0-2 Yrs   \n",
       "18              Schneider Electric    2-5 Yrs   \n",
       "19                      BlueOptima    2-6 Yrs   \n",
       "\n",
       "                                  Location  \n",
       "0                      Bangalore/Bengaluru  \n",
       "1                      Bangalore/Bengaluru  \n",
       "2                      Bangalore/Bengaluru  \n",
       "3   Pune, Bangalore/Bengaluru, Delhi / NCR  \n",
       "4              Bangalore/Bengaluru(Ulsoor)  \n",
       "5                      Bangalore/Bengaluru  \n",
       "6                      Bangalore/Bengaluru  \n",
       "7                                   Remote  \n",
       "8                      Bangalore/Bengaluru  \n",
       "9                      Bengaluru/Bangalore  \n",
       "10                     Bengaluru/Bangalore  \n",
       "11                     Bangalore/Bengaluru  \n",
       "12                     Bangalore/Bengaluru  \n",
       "13                                  Remote  \n",
       "14                     Bangalore/Bengaluru  \n",
       "15                     Bangalore/Bengaluru  \n",
       "16                     Bangalore/Bengaluru  \n",
       "17                     Bangalore/Bengaluru  \n",
       "18                     Bangalore/Bengaluru  \n",
       "19                     Bangalore/Bengaluru  "
      ]
     },
     "execution_count": 100,
     "metadata": {},
     "output_type": "execute_result"
    }
   ],
   "source": [
    "jobs = pd.DataFrame()\n",
    "jobs['Job Title'] = job_titles\n",
    "jobs['Company'] =company_names\n",
    "jobs['Experience'] = experience\n",
    "jobs['Location'] = location\n",
    "jobs"
   ]
  },
  {
   "cell_type": "code",
   "execution_count": 103,
   "id": "49da26a0",
   "metadata": {},
   "outputs": [
    {
     "data": {
      "text/html": [
       "<div>\n",
       "<style scoped>\n",
       "    .dataframe tbody tr th:only-of-type {\n",
       "        vertical-align: middle;\n",
       "    }\n",
       "\n",
       "    .dataframe tbody tr th {\n",
       "        vertical-align: top;\n",
       "    }\n",
       "\n",
       "    .dataframe thead th {\n",
       "        text-align: right;\n",
       "    }\n",
       "</style>\n",
       "<table border=\"1\" class=\"dataframe\">\n",
       "  <thead>\n",
       "    <tr style=\"text-align: right;\">\n",
       "      <th></th>\n",
       "      <th>Job Title</th>\n",
       "      <th>Company</th>\n",
       "      <th>Experience</th>\n",
       "      <th>Location</th>\n",
       "    </tr>\n",
       "  </thead>\n",
       "  <tbody>\n",
       "    <tr>\n",
       "      <th>0</th>\n",
       "      <td>Senior Data Analyst - Supporting Audits</td>\n",
       "      <td>Visa</td>\n",
       "      <td>5-8 Yrs</td>\n",
       "      <td>Bangalore/Bengaluru</td>\n",
       "    </tr>\n",
       "    <tr>\n",
       "      <th>1</th>\n",
       "      <td>Senior Data Analyst</td>\n",
       "      <td>Schneider Electric</td>\n",
       "      <td>0-2 Yrs</td>\n",
       "      <td>Bangalore/Bengaluru</td>\n",
       "    </tr>\n",
       "    <tr>\n",
       "      <th>2</th>\n",
       "      <td>Financial Data Analyst</td>\n",
       "      <td>Moody's</td>\n",
       "      <td>0-2 Yrs</td>\n",
       "      <td>Bangalore/Bengaluru</td>\n",
       "    </tr>\n",
       "    <tr>\n",
       "      <th>3</th>\n",
       "      <td>Tcs Hiring For Data Analyst / Engineers</td>\n",
       "      <td>Tata Consultancy Services Ltd.</td>\n",
       "      <td>4-9 Yrs</td>\n",
       "      <td>Pune, Bangalore/Bengaluru, Delhi / NCR</td>\n",
       "    </tr>\n",
       "    <tr>\n",
       "      <th>4</th>\n",
       "      <td>Data Analyst</td>\n",
       "      <td>WEIWO Communication Pvt. Ltd.</td>\n",
       "      <td>2-7 Yrs</td>\n",
       "      <td>Bangalore/Bengaluru(Ulsoor)</td>\n",
       "    </tr>\n",
       "    <tr>\n",
       "      <th>5</th>\n",
       "      <td>Business Data Analyst - Database Design/Mining</td>\n",
       "      <td>AugmatrixGo</td>\n",
       "      <td>2-5 Yrs</td>\n",
       "      <td>Bangalore/Bengaluru</td>\n",
       "    </tr>\n",
       "    <tr>\n",
       "      <th>6</th>\n",
       "      <td>Financial Data Analyst</td>\n",
       "      <td>Moody's</td>\n",
       "      <td>0-2 Yrs</td>\n",
       "      <td>Bangalore/Bengaluru</td>\n",
       "    </tr>\n",
       "    <tr>\n",
       "      <th>7</th>\n",
       "      <td>Senior Data Analyst</td>\n",
       "      <td>Arcworth Strategy LLP</td>\n",
       "      <td>2-4 Yrs</td>\n",
       "      <td>Remote</td>\n",
       "    </tr>\n",
       "    <tr>\n",
       "      <th>8</th>\n",
       "      <td>Senior Data Analyst</td>\n",
       "      <td>Spectraforce Technologies</td>\n",
       "      <td>5-10 Yrs</td>\n",
       "      <td>Bangalore/Bengaluru</td>\n",
       "    </tr>\n",
       "    <tr>\n",
       "      <th>9</th>\n",
       "      <td>Senior Data Analyst</td>\n",
       "      <td>Flipkart</td>\n",
       "      <td>2-3 Yrs</td>\n",
       "      <td>Bengaluru/Bangalore</td>\n",
       "    </tr>\n",
       "  </tbody>\n",
       "</table>\n",
       "</div>"
      ],
      "text/plain": [
       "                                        Job Title  \\\n",
       "0         Senior Data Analyst - Supporting Audits   \n",
       "1                             Senior Data Analyst   \n",
       "2                          Financial Data Analyst   \n",
       "3         Tcs Hiring For Data Analyst / Engineers   \n",
       "4                                    Data Analyst   \n",
       "5  Business Data Analyst - Database Design/Mining   \n",
       "6                          Financial Data Analyst   \n",
       "7                             Senior Data Analyst   \n",
       "8                             Senior Data Analyst   \n",
       "9                             Senior Data Analyst   \n",
       "\n",
       "                          Company Experience  \\\n",
       "0                            Visa    5-8 Yrs   \n",
       "1              Schneider Electric    0-2 Yrs   \n",
       "2                         Moody's    0-2 Yrs   \n",
       "3  Tata Consultancy Services Ltd.    4-9 Yrs   \n",
       "4   WEIWO Communication Pvt. Ltd.    2-7 Yrs   \n",
       "5                     AugmatrixGo    2-5 Yrs   \n",
       "6                         Moody's    0-2 Yrs   \n",
       "7           Arcworth Strategy LLP    2-4 Yrs   \n",
       "8       Spectraforce Technologies   5-10 Yrs   \n",
       "9                        Flipkart    2-3 Yrs   \n",
       "\n",
       "                                 Location  \n",
       "0                     Bangalore/Bengaluru  \n",
       "1                     Bangalore/Bengaluru  \n",
       "2                     Bangalore/Bengaluru  \n",
       "3  Pune, Bangalore/Bengaluru, Delhi / NCR  \n",
       "4             Bangalore/Bengaluru(Ulsoor)  \n",
       "5                     Bangalore/Bengaluru  \n",
       "6                     Bangalore/Bengaluru  \n",
       "7                                  Remote  \n",
       "8                     Bangalore/Bengaluru  \n",
       "9                     Bengaluru/Bangalore  "
      ]
     },
     "execution_count": 103,
     "metadata": {},
     "output_type": "execute_result"
    }
   ],
   "source": [
    "jobs = pd.DataFrame()\n",
    "jobs['Job Title'] = job_titles[0:10]\n",
    "jobs['Company'] =company_names[0:10]\n",
    "jobs['Experience'] = experience[0:10]\n",
    "jobs['Location'] = location[0:10]\n",
    "jobs"
   ]
  },
  {
   "cell_type": "code",
   "execution_count": 104,
   "id": "a286a6d0",
   "metadata": {},
   "outputs": [
    {
     "name": "stdout",
     "output_type": "stream",
     "text": [
      "Requirement already satisfied: selenium in c:\\programdata\\anaconda3\\lib\\site-packages (4.1.0)\n",
      "Requirement already satisfied: trio-websocket~=0.9 in c:\\programdata\\anaconda3\\lib\\site-packages (from selenium) (0.9.2)\n",
      "Requirement already satisfied: urllib3[secure]~=1.26 in c:\\programdata\\anaconda3\\lib\\site-packages (from selenium) (1.26.4)\n",
      "Requirement already satisfied: trio~=0.17 in c:\\programdata\\anaconda3\\lib\\site-packages (from selenium) (0.19.0)\n",
      "Requirement already satisfied: idna in c:\\programdata\\anaconda3\\lib\\site-packages (from trio~=0.17->selenium) (2.10)\n",
      "Requirement already satisfied: attrs>=19.2.0 in c:\\programdata\\anaconda3\\lib\\site-packages (from trio~=0.17->selenium) (20.3.0)\n",
      "Requirement already satisfied: sortedcontainers in c:\\programdata\\anaconda3\\lib\\site-packages (from trio~=0.17->selenium) (2.3.0)\n",
      "Requirement already satisfied: sniffio in c:\\programdata\\anaconda3\\lib\\site-packages (from trio~=0.17->selenium) (1.2.0)\n",
      "Requirement already satisfied: cffi>=1.14 in c:\\programdata\\anaconda3\\lib\\site-packages (from trio~=0.17->selenium) (1.14.5)\n",
      "Requirement already satisfied: async-generator>=1.9 in c:\\programdata\\anaconda3\\lib\\site-packages (from trio~=0.17->selenium) (1.10)\n",
      "Requirement already satisfied: outcome in c:\\programdata\\anaconda3\\lib\\site-packages (from trio~=0.17->selenium) (1.1.0)\n",
      "Requirement already satisfied: pycparser in c:\\programdata\\anaconda3\\lib\\site-packages (from cffi>=1.14->trio~=0.17->selenium) (2.20)\n",
      "Requirement already satisfied: wsproto>=0.14 in c:\\programdata\\anaconda3\\lib\\site-packages (from trio-websocket~=0.9->selenium) (1.0.0)\n",
      "Requirement already satisfied: certifi in c:\\programdata\\anaconda3\\lib\\site-packages (from urllib3[secure]~=1.26->selenium) (2020.12.5)\n",
      "Requirement already satisfied: pyOpenSSL>=0.14 in c:\\programdata\\anaconda3\\lib\\site-packages (from urllib3[secure]~=1.26->selenium) (20.0.1)\n",
      "Requirement already satisfied: cryptography>=1.3.4 in c:\\programdata\\anaconda3\\lib\\site-packages (from urllib3[secure]~=1.26->selenium) (3.4.7)\n",
      "Requirement already satisfied: six>=1.5.2 in c:\\programdata\\anaconda3\\lib\\site-packages (from pyOpenSSL>=0.14->urllib3[secure]~=1.26->selenium) (1.15.0)\n",
      "Requirement already satisfied: h11<1,>=0.9.0 in c:\\programdata\\anaconda3\\lib\\site-packages (from wsproto>=0.14->trio-websocket~=0.9->selenium) (0.12.0)\n"
     ]
    }
   ],
   "source": [
    "# Question 2\n",
    "!pip install selenium"
   ]
  },
  {
   "cell_type": "code",
   "execution_count": 105,
   "id": "37a6f15c",
   "metadata": {},
   "outputs": [],
   "source": [
    "import selenium\n",
    "from selenium import webdriver\n",
    "import pandas as pd\n",
    "import warnings\n",
    "warnings.filterwarnings(\"ignore\")"
   ]
  },
  {
   "cell_type": "code",
   "execution_count": 106,
   "id": "02938389",
   "metadata": {},
   "outputs": [],
   "source": [
    "driver = webdriver.Chrome(r'C:\\Users\\Tushar\\Downloads\\chromedriver_win32\\chromedriver.exe')"
   ]
  },
  {
   "cell_type": "code",
   "execution_count": 107,
   "id": "af6f0305",
   "metadata": {},
   "outputs": [],
   "source": [
    "driver = webdriver.Chrome ('chromedriver.exe')"
   ]
  },
  {
   "cell_type": "code",
   "execution_count": 108,
   "id": "b492bf91",
   "metadata": {},
   "outputs": [],
   "source": [
    "url = 'https://www.naukri.com/'\n",
    "driver.get(url)"
   ]
  },
  {
   "cell_type": "code",
   "execution_count": 109,
   "id": "bbb2ef54",
   "metadata": {},
   "outputs": [
    {
     "data": {
      "text/plain": [
       "<selenium.webdriver.remote.webelement.WebElement (session=\"820ebfd8452f1225268567ee308cb631\", element=\"2b1b3da3-ada7-42db-bafe-2d79efe795c0\")>"
      ]
     },
     "execution_count": 109,
     "metadata": {},
     "output_type": "execute_result"
    }
   ],
   "source": [
    "search_job = driver.find_element_by_id(\"qsb-keyword-sugg\")\n",
    "search_job"
   ]
  },
  {
   "cell_type": "code",
   "execution_count": 110,
   "id": "49b87aed",
   "metadata": {},
   "outputs": [],
   "source": [
    "#write on search bar\n",
    "search_job.send_keys(\"Data Scientist\")"
   ]
  },
  {
   "cell_type": "code",
   "execution_count": 111,
   "id": "e75d6f18",
   "metadata": {},
   "outputs": [
    {
     "data": {
      "text/plain": [
       "<selenium.webdriver.remote.webelement.WebElement (session=\"820ebfd8452f1225268567ee308cb631\", element=\"3fef726e-2441-427b-9912-f7414c538de2\")>"
      ]
     },
     "execution_count": 111,
     "metadata": {},
     "output_type": "execute_result"
    }
   ],
   "source": [
    "# finding web elements for search locn bar using absoulate xpath\n",
    "search_locn = driver.find_element_by_xpath('/html/body/div[1]/div[3]/div[2]/section/div/form/div[2]/div/div/div/div[1]/div[2]/input')\n",
    "search_locn"
   ]
  },
  {
   "cell_type": "code",
   "execution_count": 112,
   "id": "219e14b9",
   "metadata": {},
   "outputs": [],
   "source": [
    "# finding web element for job location bar\n",
    "search_locn.send_keys(\"Bangalore\")"
   ]
  },
  {
   "cell_type": "code",
   "execution_count": 113,
   "id": "d3ff51f1",
   "metadata": {},
   "outputs": [
    {
     "data": {
      "text/plain": [
       "<selenium.webdriver.remote.webelement.WebElement (session=\"820ebfd8452f1225268567ee308cb631\", element=\"30ad2b84-9f30-482f-8143-0408cf5c1972\")>"
      ]
     },
     "execution_count": 113,
     "metadata": {},
     "output_type": "execute_result"
    }
   ],
   "source": [
    "# clicking using absolute xpath function\n",
    "search_btn = driver.find_element_by_xpath('/html/body/div[1]/div[3]/div[2]/section/div/form/div[3]/button')\n",
    "search_btn"
   ]
  },
  {
   "cell_type": "code",
   "execution_count": 114,
   "id": "303aac02",
   "metadata": {},
   "outputs": [],
   "source": [
    "search_btn.click()"
   ]
  },
  {
   "cell_type": "code",
   "execution_count": 115,
   "id": "43ea9577",
   "metadata": {},
   "outputs": [
    {
     "data": {
      "text/plain": [
       "20"
      ]
     },
     "execution_count": 115,
     "metadata": {},
     "output_type": "execute_result"
    }
   ],
   "source": [
    "# extract web elements having job titles\n",
    "title_tags = driver.find_elements_by_xpath('//a[@class=\"title fw500 ellipsis\"]')\n",
    "len(title_tags)"
   ]
  },
  {
   "cell_type": "code",
   "execution_count": 124,
   "id": "3eeed2f3",
   "metadata": {},
   "outputs": [
    {
     "data": {
      "text/plain": [
       "['Global Tax Automation & Operations | Data Scientist Senior Analyst',\n",
       " 'Lead Data Scientist',\n",
       " 'Data Scientist I',\n",
       " 'Openings For Jr/mid/Sr level data Scientists',\n",
       " 'Sr Applied Data Scientist',\n",
       " 'Senior Risk Data Scientist',\n",
       " 'Data Scientist hiring (Immediate Joiner)',\n",
       " 'Principal Data Scientist',\n",
       " 'Data Scientist',\n",
       " 'Data Scientist']"
      ]
     },
     "execution_count": 124,
     "metadata": {},
     "output_type": "execute_result"
    }
   ],
   "source": [
    "job_titles = []\n",
    "for i in title_tags:\n",
    "    job_titles.append(i.text)\n",
    "len(job_titles)\n",
    "job_titles[0:10]"
   ]
  },
  {
   "cell_type": "code",
   "execution_count": 117,
   "id": "5cbf0e9f",
   "metadata": {},
   "outputs": [
    {
     "data": {
      "text/plain": [
       "20"
      ]
     },
     "execution_count": 117,
     "metadata": {},
     "output_type": "execute_result"
    }
   ],
   "source": [
    "company_tags = driver.find_elements_by_xpath('//a[@class=\"subTitle ellipsis fleft\"]')\n",
    "len(company_tags)"
   ]
  },
  {
   "cell_type": "code",
   "execution_count": 118,
   "id": "cdd4ca2d",
   "metadata": {},
   "outputs": [
    {
     "data": {
      "text/plain": [
       "20"
      ]
     },
     "execution_count": 118,
     "metadata": {},
     "output_type": "execute_result"
    }
   ],
   "source": [
    "company_names = []\n",
    "\n",
    "for i in company_tags:\n",
    "    company_names.append(i.text)\n",
    "len(company_names)"
   ]
  },
  {
   "cell_type": "code",
   "execution_count": 119,
   "id": "73fa19e0",
   "metadata": {},
   "outputs": [
    {
     "data": {
      "text/plain": [
       "20"
      ]
     },
     "execution_count": 119,
     "metadata": {},
     "output_type": "execute_result"
    }
   ],
   "source": [
    "exp_tags = driver.find_elements_by_xpath('//li[@class=\"fleft grey-text br2 placeHolderLi experience\"]')\n",
    "len(exp_tags)"
   ]
  },
  {
   "cell_type": "code",
   "execution_count": 120,
   "id": "16a1979d",
   "metadata": {},
   "outputs": [
    {
     "data": {
      "text/plain": [
       "20"
      ]
     },
     "execution_count": 120,
     "metadata": {},
     "output_type": "execute_result"
    }
   ],
   "source": [
    "experience = []\n",
    "for i in exp_tags:\n",
    "    experience.append(i.text)\n",
    "len(experience)"
   ]
  },
  {
   "cell_type": "code",
   "execution_count": 121,
   "id": "3f12539c",
   "metadata": {},
   "outputs": [
    {
     "data": {
      "text/plain": [
       "20"
      ]
     },
     "execution_count": 121,
     "metadata": {},
     "output_type": "execute_result"
    }
   ],
   "source": [
    "#extracting location\n",
    "locn_tags = driver.find_elements_by_xpath('//li[@class=\"fleft grey-text br2 placeHolderLi location\"]')\n",
    "len(locn_tags)"
   ]
  },
  {
   "cell_type": "code",
   "execution_count": 122,
   "id": "5c768c68",
   "metadata": {},
   "outputs": [
    {
     "data": {
      "text/plain": [
       "20"
      ]
     },
     "execution_count": 122,
     "metadata": {},
     "output_type": "execute_result"
    }
   ],
   "source": [
    "location = []\n",
    "for i in locn_tags:\n",
    "    location.append(i.text)\n",
    "len(location)"
   ]
  },
  {
   "cell_type": "code",
   "execution_count": 125,
   "id": "a37b964b",
   "metadata": {},
   "outputs": [
    {
     "data": {
      "text/html": [
       "<div>\n",
       "<style scoped>\n",
       "    .dataframe tbody tr th:only-of-type {\n",
       "        vertical-align: middle;\n",
       "    }\n",
       "\n",
       "    .dataframe tbody tr th {\n",
       "        vertical-align: top;\n",
       "    }\n",
       "\n",
       "    .dataframe thead th {\n",
       "        text-align: right;\n",
       "    }\n",
       "</style>\n",
       "<table border=\"1\" class=\"dataframe\">\n",
       "  <thead>\n",
       "    <tr style=\"text-align: right;\">\n",
       "      <th></th>\n",
       "      <th>Job Title</th>\n",
       "      <th>Company</th>\n",
       "      <th>Experience</th>\n",
       "      <th>Location</th>\n",
       "    </tr>\n",
       "  </thead>\n",
       "  <tbody>\n",
       "    <tr>\n",
       "      <th>0</th>\n",
       "      <td>Global Tax Automation &amp; Operations | Data Scie...</td>\n",
       "      <td>Dell International Services India Private Limited</td>\n",
       "      <td>3-5 Yrs</td>\n",
       "      <td>Bangalore/Bengaluru</td>\n",
       "    </tr>\n",
       "    <tr>\n",
       "      <th>1</th>\n",
       "      <td>Lead Data Scientist</td>\n",
       "      <td>First American Corporation</td>\n",
       "      <td>9-14 Yrs</td>\n",
       "      <td>Bangalore/Bengaluru</td>\n",
       "    </tr>\n",
       "    <tr>\n",
       "      <th>2</th>\n",
       "      <td>Data Scientist I</td>\n",
       "      <td>Delhivery</td>\n",
       "      <td>2-5 Yrs</td>\n",
       "      <td>Bangalore/Bengaluru</td>\n",
       "    </tr>\n",
       "    <tr>\n",
       "      <th>3</th>\n",
       "      <td>Openings For Jr/mid/Sr level data Scientists</td>\n",
       "      <td>Pluto seven business solutions (p) limited</td>\n",
       "      <td>2-6 Yrs</td>\n",
       "      <td>Kolkata, Hyderabad/Secunderabad, Pune, Ahmedab...</td>\n",
       "    </tr>\n",
       "    <tr>\n",
       "      <th>4</th>\n",
       "      <td>Sr Applied Data Scientist</td>\n",
       "      <td>Tesco Bengaluru</td>\n",
       "      <td>2-4 Yrs</td>\n",
       "      <td>Bangalore/Bengaluru</td>\n",
       "    </tr>\n",
       "    <tr>\n",
       "      <th>5</th>\n",
       "      <td>Senior Risk Data Scientist</td>\n",
       "      <td>GSK India</td>\n",
       "      <td>4-9 Yrs</td>\n",
       "      <td>Bangalore/Bengaluru</td>\n",
       "    </tr>\n",
       "    <tr>\n",
       "      <th>6</th>\n",
       "      <td>Data Scientist hiring (Immediate Joiner)</td>\n",
       "      <td>ATG BUSINESS SOLUTIONS PRIVATE LIMITED</td>\n",
       "      <td>3-7 Yrs</td>\n",
       "      <td>Hyderabad/Secunderabad, Bangalore/Bengaluru</td>\n",
       "    </tr>\n",
       "    <tr>\n",
       "      <th>7</th>\n",
       "      <td>Principal Data Scientist</td>\n",
       "      <td>Narayana Heath</td>\n",
       "      <td>6-9 Yrs</td>\n",
       "      <td>Bangalore/Bengaluru</td>\n",
       "    </tr>\n",
       "    <tr>\n",
       "      <th>8</th>\n",
       "      <td>Data Scientist</td>\n",
       "      <td>Qualfon Advanced Technology Center LLP</td>\n",
       "      <td>6-10 Yrs</td>\n",
       "      <td>Mumbai, Bangalore/Bengaluru, Delhi / NCR</td>\n",
       "    </tr>\n",
       "    <tr>\n",
       "      <th>9</th>\n",
       "      <td>Data Scientist</td>\n",
       "      <td>ELPIS IT SOLUTIONS PVT LTD</td>\n",
       "      <td>5-7 Yrs</td>\n",
       "      <td>Bangalore/Bengaluru</td>\n",
       "    </tr>\n",
       "  </tbody>\n",
       "</table>\n",
       "</div>"
      ],
      "text/plain": [
       "                                           Job Title  \\\n",
       "0  Global Tax Automation & Operations | Data Scie...   \n",
       "1                                Lead Data Scientist   \n",
       "2                                   Data Scientist I   \n",
       "3       Openings For Jr/mid/Sr level data Scientists   \n",
       "4                          Sr Applied Data Scientist   \n",
       "5                         Senior Risk Data Scientist   \n",
       "6           Data Scientist hiring (Immediate Joiner)   \n",
       "7                           Principal Data Scientist   \n",
       "8                                     Data Scientist   \n",
       "9                                     Data Scientist   \n",
       "\n",
       "                                             Company Experience  \\\n",
       "0  Dell International Services India Private Limited    3-5 Yrs   \n",
       "1                         First American Corporation   9-14 Yrs   \n",
       "2                                          Delhivery    2-5 Yrs   \n",
       "3         Pluto seven business solutions (p) limited    2-6 Yrs   \n",
       "4                                    Tesco Bengaluru    2-4 Yrs   \n",
       "5                                          GSK India    4-9 Yrs   \n",
       "6             ATG BUSINESS SOLUTIONS PRIVATE LIMITED    3-7 Yrs   \n",
       "7                                     Narayana Heath    6-9 Yrs   \n",
       "8             Qualfon Advanced Technology Center LLP   6-10 Yrs   \n",
       "9                         ELPIS IT SOLUTIONS PVT LTD    5-7 Yrs   \n",
       "\n",
       "                                            Location  \n",
       "0                                Bangalore/Bengaluru  \n",
       "1                                Bangalore/Bengaluru  \n",
       "2                                Bangalore/Bengaluru  \n",
       "3  Kolkata, Hyderabad/Secunderabad, Pune, Ahmedab...  \n",
       "4                                Bangalore/Bengaluru  \n",
       "5                                Bangalore/Bengaluru  \n",
       "6        Hyderabad/Secunderabad, Bangalore/Bengaluru  \n",
       "7                                Bangalore/Bengaluru  \n",
       "8           Mumbai, Bangalore/Bengaluru, Delhi / NCR  \n",
       "9                                Bangalore/Bengaluru  "
      ]
     },
     "execution_count": 125,
     "metadata": {},
     "output_type": "execute_result"
    }
   ],
   "source": [
    "jobs = pd.DataFrame()\n",
    "jobs['Job Title'] = job_titles[0:10]\n",
    "jobs['Company'] =company_names[0:10]\n",
    "jobs['Experience'] = experience[0:10]\n",
    "jobs['Location'] = location[0:10]\n",
    "jobs"
   ]
  },
  {
   "cell_type": "code",
   "execution_count": 164,
   "id": "23e0b992",
   "metadata": {},
   "outputs": [
    {
     "name": "stdout",
     "output_type": "stream",
     "text": [
      "Requirement already satisfied: selenium in c:\\programdata\\anaconda3\\lib\\site-packages (4.1.0)\n",
      "Requirement already satisfied: urllib3[secure]~=1.26 in c:\\programdata\\anaconda3\\lib\\site-packages (from selenium) (1.26.4)\n",
      "Requirement already satisfied: trio-websocket~=0.9 in c:\\programdata\\anaconda3\\lib\\site-packages (from selenium) (0.9.2)\n",
      "Requirement already satisfied: trio~=0.17 in c:\\programdata\\anaconda3\\lib\\site-packages (from selenium) (0.19.0)\n",
      "Requirement already satisfied: outcome in c:\\programdata\\anaconda3\\lib\\site-packages (from trio~=0.17->selenium) (1.1.0)\n",
      "Requirement already satisfied: async-generator>=1.9 in c:\\programdata\\anaconda3\\lib\\site-packages (from trio~=0.17->selenium) (1.10)\n",
      "Requirement already satisfied: sniffio in c:\\programdata\\anaconda3\\lib\\site-packages (from trio~=0.17->selenium) (1.2.0)\n",
      "Requirement already satisfied: idna in c:\\programdata\\anaconda3\\lib\\site-packages (from trio~=0.17->selenium) (2.10)\n",
      "Requirement already satisfied: cffi>=1.14 in c:\\programdata\\anaconda3\\lib\\site-packages (from trio~=0.17->selenium) (1.14.5)\n",
      "Requirement already satisfied: attrs>=19.2.0 in c:\\programdata\\anaconda3\\lib\\site-packages (from trio~=0.17->selenium) (20.3.0)\n",
      "Requirement already satisfied: sortedcontainers in c:\\programdata\\anaconda3\\lib\\site-packages (from trio~=0.17->selenium) (2.3.0)\n",
      "Requirement already satisfied: pycparser in c:\\programdata\\anaconda3\\lib\\site-packages (from cffi>=1.14->trio~=0.17->selenium) (2.20)\n",
      "Requirement already satisfied: wsproto>=0.14 in c:\\programdata\\anaconda3\\lib\\site-packages (from trio-websocket~=0.9->selenium) (1.0.0)\n",
      "Requirement already satisfied: cryptography>=1.3.4 in c:\\programdata\\anaconda3\\lib\\site-packages (from urllib3[secure]~=1.26->selenium) (3.4.7)\n",
      "Requirement already satisfied: certifi in c:\\programdata\\anaconda3\\lib\\site-packages (from urllib3[secure]~=1.26->selenium) (2020.12.5)\n",
      "Requirement already satisfied: pyOpenSSL>=0.14 in c:\\programdata\\anaconda3\\lib\\site-packages (from urllib3[secure]~=1.26->selenium) (20.0.1)\n",
      "Requirement already satisfied: six>=1.5.2 in c:\\programdata\\anaconda3\\lib\\site-packages (from pyOpenSSL>=0.14->urllib3[secure]~=1.26->selenium) (1.15.0)\n",
      "Requirement already satisfied: h11<1,>=0.9.0 in c:\\programdata\\anaconda3\\lib\\site-packages (from wsproto>=0.14->trio-websocket~=0.9->selenium) (0.12.0)\n"
     ]
    }
   ],
   "source": [
    "# question number 3\n",
    "!pip install selenium"
   ]
  },
  {
   "cell_type": "code",
   "execution_count": 165,
   "id": "bd3d975f",
   "metadata": {},
   "outputs": [],
   "source": [
    "import selenium\n",
    "from selenium import webdriver\n",
    "import pandas as pd\n",
    "import warnings\n",
    "warnings.filterwarnings(\"ignore\")"
   ]
  },
  {
   "cell_type": "code",
   "execution_count": 166,
   "id": "36a82e20",
   "metadata": {},
   "outputs": [],
   "source": [
    "driver = webdriver.Chrome(r'C:\\Users\\Tushar\\Downloads\\chromedriver_win32\\chromedriver.exe')"
   ]
  },
  {
   "cell_type": "code",
   "execution_count": 167,
   "id": "112d50ca",
   "metadata": {},
   "outputs": [],
   "source": [
    "driver = webdriver.Chrome ('chromedriver.exe')"
   ]
  },
  {
   "cell_type": "code",
   "execution_count": 168,
   "id": "3f4dc7e1",
   "metadata": {},
   "outputs": [],
   "source": [
    "url = 'https://www.naukri.com/'\n",
    "driver.get(url)"
   ]
  },
  {
   "cell_type": "code",
   "execution_count": 169,
   "id": "274172d1",
   "metadata": {},
   "outputs": [
    {
     "data": {
      "text/plain": [
       "<selenium.webdriver.remote.webelement.WebElement (session=\"e20e3f88da6c430e04c126047b09687e\", element=\"fa8f0aa4-eafa-44c6-b46a-8502d15f9dda\")>"
      ]
     },
     "execution_count": 169,
     "metadata": {},
     "output_type": "execute_result"
    }
   ],
   "source": [
    "search_job = driver.find_element_by_id(\"qsb-keyword-sugg\")\n",
    "search_job"
   ]
  },
  {
   "cell_type": "code",
   "execution_count": 170,
   "id": "0de344bc",
   "metadata": {},
   "outputs": [],
   "source": [
    "#write on search bar\n",
    "search_job.send_keys(\"Data Scientist\")"
   ]
  },
  {
   "cell_type": "code",
   "execution_count": 171,
   "id": "3fe2758b",
   "metadata": {},
   "outputs": [
    {
     "data": {
      "text/plain": [
       "<selenium.webdriver.remote.webelement.WebElement (session=\"e20e3f88da6c430e04c126047b09687e\", element=\"79a24c38-5d3f-4dae-9447-9a17cd2c2c04\")>"
      ]
     },
     "execution_count": 171,
     "metadata": {},
     "output_type": "execute_result"
    }
   ],
   "source": [
    "# clicking using absolute xpath function\n",
    "search_btn = driver.find_element_by_xpath('/html/body/div[1]/div[3]/div[2]/section/div/form/div[3]/button')\n",
    "search_btn"
   ]
  },
  {
   "cell_type": "code",
   "execution_count": 172,
   "id": "76cf52ea",
   "metadata": {},
   "outputs": [],
   "source": [
    "search_btn.click()"
   ]
  },
  {
   "cell_type": "code",
   "execution_count": 175,
   "id": "9324f684",
   "metadata": {},
   "outputs": [
    {
     "data": {
      "text/plain": [
       "<selenium.webdriver.remote.webelement.WebElement (session=\"e20e3f88da6c430e04c126047b09687e\", element=\"73e42b6f-9db4-44fe-9db5-9190cfe71449\")>"
      ]
     },
     "execution_count": 175,
     "metadata": {},
     "output_type": "execute_result"
    }
   ],
   "source": [
    "salary_check = driver.find_element_by_xpath('/html/body/div[1]/div[3]/div[2]/section[1]/div[2]/div[1]/div[2]/div[1]/label/i')\n",
    "salary_check"
   ]
  },
  {
   "cell_type": "code",
   "execution_count": 176,
   "id": "7c99b573",
   "metadata": {},
   "outputs": [
    {
     "data": {
      "text/plain": [
       "<bound method WebElement.click of <selenium.webdriver.remote.webelement.WebElement (session=\"e20e3f88da6c430e04c126047b09687e\", element=\"73e42b6f-9db4-44fe-9db5-9190cfe71449\")>>"
      ]
     },
     "execution_count": 176,
     "metadata": {},
     "output_type": "execute_result"
    }
   ],
   "source": [
    "salary_check.click"
   ]
  },
  {
   "cell_type": "code",
   "execution_count": 188,
   "id": "5b4e45ed",
   "metadata": {},
   "outputs": [
    {
     "data": {
      "text/plain": [
       "<selenium.webdriver.remote.webelement.WebElement (session=\"e20e3f88da6c430e04c126047b09687e\", element=\"0feceb83-3dc2-4c9a-8164-90814703c49f\")>"
      ]
     },
     "execution_count": 188,
     "metadata": {},
     "output_type": "execute_result"
    }
   ],
   "source": [
    "# finding web elements for search locn bar using absoulate xpath\n",
    "search_locn = driver.find_element_by_xpath('/html/body/div[1]/div[3]/div[2]/section[1]/div[2]/div[2]/div[2]/div[2]/label/i')\n",
    "search_locn"
   ]
  },
  {
   "cell_type": "code",
   "execution_count": 178,
   "id": "f4e75cc9",
   "metadata": {},
   "outputs": [
    {
     "data": {
      "text/plain": [
       "20"
      ]
     },
     "execution_count": 178,
     "metadata": {},
     "output_type": "execute_result"
    }
   ],
   "source": [
    "# extract web elements having job titles\n",
    "title_tags = driver.find_elements_by_xpath('//a[@class=\"title fw500 ellipsis\"]')\n",
    "len(title_tags)"
   ]
  },
  {
   "cell_type": "code",
   "execution_count": 180,
   "id": "dfd85651",
   "metadata": {},
   "outputs": [
    {
     "data": {
      "text/plain": [
       "20"
      ]
     },
     "execution_count": 180,
     "metadata": {},
     "output_type": "execute_result"
    }
   ],
   "source": [
    "job_titles = []\n",
    "for i in title_tags:\n",
    "    job_titles.append(i.text)\n",
    "len(job_titles)"
   ]
  },
  {
   "cell_type": "code",
   "execution_count": 181,
   "id": "b2c80a16",
   "metadata": {},
   "outputs": [
    {
     "data": {
      "text/plain": [
       "20"
      ]
     },
     "execution_count": 181,
     "metadata": {},
     "output_type": "execute_result"
    }
   ],
   "source": [
    "company_tags = driver.find_elements_by_xpath('//a[@class=\"subTitle ellipsis fleft\"]')\n",
    "len(company_tags)"
   ]
  },
  {
   "cell_type": "code",
   "execution_count": 182,
   "id": "8ad6bd6e",
   "metadata": {},
   "outputs": [
    {
     "data": {
      "text/plain": [
       "20"
      ]
     },
     "execution_count": 182,
     "metadata": {},
     "output_type": "execute_result"
    }
   ],
   "source": [
    "company_names = []\n",
    "\n",
    "for i in company_tags:\n",
    "    company_names.append(i.text)\n",
    "len(company_names)"
   ]
  },
  {
   "cell_type": "code",
   "execution_count": 183,
   "id": "b6526008",
   "metadata": {},
   "outputs": [
    {
     "data": {
      "text/plain": [
       "20"
      ]
     },
     "execution_count": 183,
     "metadata": {},
     "output_type": "execute_result"
    }
   ],
   "source": [
    "exp_tags = driver.find_elements_by_xpath('//li[@class=\"fleft grey-text br2 placeHolderLi experience\"]')\n",
    "len(exp_tags)"
   ]
  },
  {
   "cell_type": "code",
   "execution_count": 184,
   "id": "cd11ca5d",
   "metadata": {},
   "outputs": [
    {
     "data": {
      "text/plain": [
       "20"
      ]
     },
     "execution_count": 184,
     "metadata": {},
     "output_type": "execute_result"
    }
   ],
   "source": [
    "experience = []\n",
    "for i in exp_tags:\n",
    "    experience.append(i.text)\n",
    "len(experience)"
   ]
  },
  {
   "cell_type": "code",
   "execution_count": 191,
   "id": "6f74ea7b",
   "metadata": {},
   "outputs": [
    {
     "data": {
      "text/plain": [
       "[<selenium.webdriver.remote.webelement.WebElement (session=\"e20e3f88da6c430e04c126047b09687e\", element=\"176bf43a-ce56-4681-9d87-1eae12552fd4\")>,\n",
       " <selenium.webdriver.remote.webelement.WebElement (session=\"e20e3f88da6c430e04c126047b09687e\", element=\"25981d06-53f9-49a1-a2a2-02ff9efe0dc0\")>,\n",
       " <selenium.webdriver.remote.webelement.WebElement (session=\"e20e3f88da6c430e04c126047b09687e\", element=\"eea9cf35-e334-42f9-bd28-748410ff781e\")>,\n",
       " <selenium.webdriver.remote.webelement.WebElement (session=\"e20e3f88da6c430e04c126047b09687e\", element=\"78b450e8-af90-45bf-bf0c-a15e3990c68c\")>,\n",
       " <selenium.webdriver.remote.webelement.WebElement (session=\"e20e3f88da6c430e04c126047b09687e\", element=\"15061361-cd98-4b14-9e0c-1d56b030af5e\")>,\n",
       " <selenium.webdriver.remote.webelement.WebElement (session=\"e20e3f88da6c430e04c126047b09687e\", element=\"fc785765-66e9-49c9-8355-67be764054d8\")>,\n",
       " <selenium.webdriver.remote.webelement.WebElement (session=\"e20e3f88da6c430e04c126047b09687e\", element=\"3a04e2ae-5387-4088-a3bf-89b4617a4bb4\")>,\n",
       " <selenium.webdriver.remote.webelement.WebElement (session=\"e20e3f88da6c430e04c126047b09687e\", element=\"af03ae56-5114-4b02-a061-cfc0f16f8edf\")>,\n",
       " <selenium.webdriver.remote.webelement.WebElement (session=\"e20e3f88da6c430e04c126047b09687e\", element=\"76b69ca6-3f43-4115-92f8-113857a3cb98\")>,\n",
       " <selenium.webdriver.remote.webelement.WebElement (session=\"e20e3f88da6c430e04c126047b09687e\", element=\"67a58d28-d931-41f9-9f76-2cc605c92666\")>]"
      ]
     },
     "execution_count": 191,
     "metadata": {},
     "output_type": "execute_result"
    }
   ],
   "source": [
    "#extracting location\n",
    "locn_tags = driver.find_elements_by_xpath('//li[@class=\"fleft grey-text br2 placeHolderLi location\"]')\n",
    "len(locn_tags)\n",
    "locn_tags[0:10]"
   ]
  },
  {
   "cell_type": "code",
   "execution_count": 192,
   "id": "f9e85201",
   "metadata": {},
   "outputs": [
    {
     "data": {
      "text/plain": [
       "20"
      ]
     },
     "execution_count": 192,
     "metadata": {},
     "output_type": "execute_result"
    }
   ],
   "source": [
    "location = []\n",
    "for i in locn_tags:\n",
    "    location.append(i.text)\n",
    "len(location)"
   ]
  },
  {
   "cell_type": "code",
   "execution_count": 193,
   "id": "68f0785a",
   "metadata": {},
   "outputs": [
    {
     "data": {
      "text/html": [
       "<div>\n",
       "<style scoped>\n",
       "    .dataframe tbody tr th:only-of-type {\n",
       "        vertical-align: middle;\n",
       "    }\n",
       "\n",
       "    .dataframe tbody tr th {\n",
       "        vertical-align: top;\n",
       "    }\n",
       "\n",
       "    .dataframe thead th {\n",
       "        text-align: right;\n",
       "    }\n",
       "</style>\n",
       "<table border=\"1\" class=\"dataframe\">\n",
       "  <thead>\n",
       "    <tr style=\"text-align: right;\">\n",
       "      <th></th>\n",
       "      <th>Job Title</th>\n",
       "      <th>Company</th>\n",
       "      <th>Experience</th>\n",
       "      <th>Location</th>\n",
       "    </tr>\n",
       "  </thead>\n",
       "  <tbody>\n",
       "    <tr>\n",
       "      <th>0</th>\n",
       "      <td>Senior Data Scientist I</td>\n",
       "      <td>Delhivery</td>\n",
       "      <td>3-7 Yrs</td>\n",
       "      <td>Gurgaon/Gurugram</td>\n",
       "    </tr>\n",
       "    <tr>\n",
       "      <th>1</th>\n",
       "      <td>Openings For Jr/mid/Sr level data Scientists</td>\n",
       "      <td>Pluto seven business solutions (p) limited</td>\n",
       "      <td>2-6 Yrs</td>\n",
       "      <td>Kolkata, Hyderabad/Secunderabad, Pune, Ahmedab...</td>\n",
       "    </tr>\n",
       "    <tr>\n",
       "      <th>2</th>\n",
       "      <td>Urgent Hiring For Data Scientist</td>\n",
       "      <td>Mount Talent Consulting Private Limited</td>\n",
       "      <td>1-6 Yrs</td>\n",
       "      <td>Gurgaon/Gurugram, Bangalore/Bengaluru</td>\n",
       "    </tr>\n",
       "    <tr>\n",
       "      <th>3</th>\n",
       "      <td>Urgent Hiring For Data Scientist</td>\n",
       "      <td>Mount Talent Consulting Private Limited</td>\n",
       "      <td>1-6 Yrs</td>\n",
       "      <td>Gurgaon/Gurugram, Bangalore/Bengaluru</td>\n",
       "    </tr>\n",
       "    <tr>\n",
       "      <th>4</th>\n",
       "      <td>Data Scientist</td>\n",
       "      <td>Teleperformance</td>\n",
       "      <td>4-9 Yrs</td>\n",
       "      <td>Gurgaon/Gurugram, Chennai</td>\n",
       "    </tr>\n",
       "    <tr>\n",
       "      <th>5</th>\n",
       "      <td>Data Analyst / Data Scientist / Business Analy...</td>\n",
       "      <td>GABA Consultancy services</td>\n",
       "      <td>0-0 Yrs</td>\n",
       "      <td>Noida, New Delhi, Delhi / NCR</td>\n",
       "    </tr>\n",
       "    <tr>\n",
       "      <th>6</th>\n",
       "      <td>Data Scientist</td>\n",
       "      <td>WNS India</td>\n",
       "      <td>3-6 Yrs</td>\n",
       "      <td>Gurgaon/Gurugram</td>\n",
       "    </tr>\n",
       "    <tr>\n",
       "      <th>7</th>\n",
       "      <td>Data Scientist</td>\n",
       "      <td>WNS India</td>\n",
       "      <td>3-7 Yrs</td>\n",
       "      <td>Gurgaon/Gurugram</td>\n",
       "    </tr>\n",
       "    <tr>\n",
       "      <th>8</th>\n",
       "      <td>Data Scientist - DARPG, New Delhi</td>\n",
       "      <td>NISG (National Institute for Smart Government)</td>\n",
       "      <td>3-8 Yrs</td>\n",
       "      <td>Delhi / NCR</td>\n",
       "    </tr>\n",
       "    <tr>\n",
       "      <th>9</th>\n",
       "      <td>Data Scientist Internship</td>\n",
       "      <td>iHackers Inc</td>\n",
       "      <td>0-1 Yrs</td>\n",
       "      <td>New Delhi</td>\n",
       "    </tr>\n",
       "  </tbody>\n",
       "</table>\n",
       "</div>"
      ],
      "text/plain": [
       "                                           Job Title  \\\n",
       "0                            Senior Data Scientist I   \n",
       "1       Openings For Jr/mid/Sr level data Scientists   \n",
       "2                   Urgent Hiring For Data Scientist   \n",
       "3                   Urgent Hiring For Data Scientist   \n",
       "4                                     Data Scientist   \n",
       "5  Data Analyst / Data Scientist / Business Analy...   \n",
       "6                                     Data Scientist   \n",
       "7                                     Data Scientist   \n",
       "8                  Data Scientist - DARPG, New Delhi   \n",
       "9                          Data Scientist Internship   \n",
       "\n",
       "                                          Company Experience  \\\n",
       "0                                       Delhivery    3-7 Yrs   \n",
       "1      Pluto seven business solutions (p) limited    2-6 Yrs   \n",
       "2         Mount Talent Consulting Private Limited    1-6 Yrs   \n",
       "3         Mount Talent Consulting Private Limited    1-6 Yrs   \n",
       "4                                 Teleperformance    4-9 Yrs   \n",
       "5                       GABA Consultancy services    0-0 Yrs   \n",
       "6                                       WNS India    3-6 Yrs   \n",
       "7                                       WNS India    3-7 Yrs   \n",
       "8  NISG (National Institute for Smart Government)    3-8 Yrs   \n",
       "9                                    iHackers Inc    0-1 Yrs   \n",
       "\n",
       "                                            Location  \n",
       "0                                   Gurgaon/Gurugram  \n",
       "1  Kolkata, Hyderabad/Secunderabad, Pune, Ahmedab...  \n",
       "2              Gurgaon/Gurugram, Bangalore/Bengaluru  \n",
       "3              Gurgaon/Gurugram, Bangalore/Bengaluru  \n",
       "4                          Gurgaon/Gurugram, Chennai  \n",
       "5                      Noida, New Delhi, Delhi / NCR  \n",
       "6                                   Gurgaon/Gurugram  \n",
       "7                                   Gurgaon/Gurugram  \n",
       "8                                        Delhi / NCR  \n",
       "9                                          New Delhi  "
      ]
     },
     "execution_count": 193,
     "metadata": {},
     "output_type": "execute_result"
    }
   ],
   "source": [
    "jobs = pd.DataFrame()\n",
    "jobs['Job Title'] = job_titles[0:10]\n",
    "jobs['Company'] =company_names[0:10]\n",
    "jobs['Experience'] = experience[0:10]\n",
    "jobs['Location'] = location[0:10]\n",
    "jobs"
   ]
  },
  {
   "cell_type": "code",
   "execution_count": 1,
   "id": "92d5f7cc",
   "metadata": {},
   "outputs": [
    {
     "name": "stdout",
     "output_type": "stream",
     "text": [
      "Requirement already satisfied: selenium in c:\\programdata\\anaconda3\\lib\\site-packages (4.1.0)\n",
      "Requirement already satisfied: trio~=0.17 in c:\\programdata\\anaconda3\\lib\\site-packages (from selenium) (0.19.0)\n",
      "Requirement already satisfied: urllib3[secure]~=1.26 in c:\\programdata\\anaconda3\\lib\\site-packages (from selenium) (1.26.4)\n",
      "Requirement already satisfied: trio-websocket~=0.9 in c:\\programdata\\anaconda3\\lib\\site-packages (from selenium) (0.9.2)\n",
      "Requirement already satisfied: sniffio in c:\\programdata\\anaconda3\\lib\\site-packages (from trio~=0.17->selenium) (1.2.0)\n",
      "Requirement already satisfied: outcome in c:\\programdata\\anaconda3\\lib\\site-packages (from trio~=0.17->selenium) (1.1.0)\n",
      "Requirement already satisfied: sortedcontainers in c:\\programdata\\anaconda3\\lib\\site-packages (from trio~=0.17->selenium) (2.3.0)\n",
      "Requirement already satisfied: idna in c:\\programdata\\anaconda3\\lib\\site-packages (from trio~=0.17->selenium) (2.10)\n",
      "Requirement already satisfied: attrs>=19.2.0 in c:\\programdata\\anaconda3\\lib\\site-packages (from trio~=0.17->selenium) (20.3.0)\n",
      "Requirement already satisfied: async-generator>=1.9 in c:\\programdata\\anaconda3\\lib\\site-packages (from trio~=0.17->selenium) (1.10)\n",
      "Requirement already satisfied: cffi>=1.14 in c:\\programdata\\anaconda3\\lib\\site-packages (from trio~=0.17->selenium) (1.14.5)\n",
      "Requirement already satisfied: pycparser in c:\\programdata\\anaconda3\\lib\\site-packages (from cffi>=1.14->trio~=0.17->selenium) (2.20)\n",
      "Requirement already satisfied: wsproto>=0.14 in c:\\programdata\\anaconda3\\lib\\site-packages (from trio-websocket~=0.9->selenium) (1.0.0)\n",
      "Requirement already satisfied: cryptography>=1.3.4 in c:\\programdata\\anaconda3\\lib\\site-packages (from urllib3[secure]~=1.26->selenium) (3.4.7)\n",
      "Requirement already satisfied: pyOpenSSL>=0.14 in c:\\programdata\\anaconda3\\lib\\site-packages (from urllib3[secure]~=1.26->selenium) (20.0.1)\n",
      "Requirement already satisfied: certifi in c:\\programdata\\anaconda3\\lib\\site-packages (from urllib3[secure]~=1.26->selenium) (2020.12.5)\n",
      "Requirement already satisfied: six>=1.5.2 in c:\\programdata\\anaconda3\\lib\\site-packages (from pyOpenSSL>=0.14->urllib3[secure]~=1.26->selenium) (1.15.0)\n",
      "Requirement already satisfied: h11<1,>=0.9.0 in c:\\programdata\\anaconda3\\lib\\site-packages (from wsproto>=0.14->trio-websocket~=0.9->selenium) (0.12.0)\n"
     ]
    }
   ],
   "source": [
    "# question number 4\n",
    "!pip install selenium"
   ]
  },
  {
   "cell_type": "code",
   "execution_count": 2,
   "id": "649811b7",
   "metadata": {},
   "outputs": [],
   "source": [
    "import selenium\n",
    "from selenium import webdriver\n",
    "import pandas as pd\n",
    "import warnings\n",
    "warnings.filterwarnings(\"ignore\")"
   ]
  },
  {
   "cell_type": "code",
   "execution_count": 3,
   "id": "0daa5690",
   "metadata": {},
   "outputs": [],
   "source": [
    "driver = webdriver.Chrome(r'C:\\Users\\Tushar\\Downloads\\chromedriver_win32\\chromedriver.exe')"
   ]
  },
  {
   "cell_type": "code",
   "execution_count": 4,
   "id": "18312a3d",
   "metadata": {},
   "outputs": [],
   "source": [
    "driver = webdriver.Chrome ('chromedriver.exe')"
   ]
  },
  {
   "cell_type": "code",
   "execution_count": 5,
   "id": "78cd55a9",
   "metadata": {},
   "outputs": [],
   "source": [
    "url = 'https://www.flipkart.com/search?q=sunglasses&sid=26x&as=on&as-show=on&otracker=AS_QueryStore_OrganicAutoSuggest_2_3_na_na_na&otracker1=AS_QueryStore_OrganicAutoSuggest_2_3_na_na_na&as-pos=2&as-type=RECENT&suggestionId=sunglasses%7CSunglasses&requestId=a26e25bd-76c8-4c7e-9638-f371b62ed405&as-searchtext=sun'\n",
    "driver.get(url)"
   ]
  },
  {
   "cell_type": "code",
   "execution_count": 6,
   "id": "4007629f",
   "metadata": {},
   "outputs": [
    {
     "data": {
      "text/plain": [
       "40"
      ]
     },
     "execution_count": 6,
     "metadata": {},
     "output_type": "execute_result"
    }
   ],
   "source": [
    "title_tags = driver.find_elements_by_xpath('//a[@class=\"IRpwTa\"]')\n",
    "len(title_tags)"
   ]
  },
  {
   "cell_type": "code",
   "execution_count": 7,
   "id": "55aaa83c",
   "metadata": {},
   "outputs": [
    {
     "data": {
      "text/plain": [
       "40"
      ]
     },
     "execution_count": 7,
     "metadata": {},
     "output_type": "execute_result"
    }
   ],
   "source": [
    "brand_titles = []\n",
    "for i in title_tags:\n",
    "    brand_titles.append(i.text)\n",
    "len(brand_titles)"
   ]
  },
  {
   "cell_type": "code",
   "execution_count": 8,
   "id": "ce9570bc",
   "metadata": {},
   "outputs": [
    {
     "data": {
      "text/plain": [
       "40"
      ]
     },
     "execution_count": 8,
     "metadata": {},
     "output_type": "execute_result"
    }
   ],
   "source": [
    "product_tags = driver.find_elements_by_xpath('//a[@class=\"IRpwTa\"]') \n",
    "len(product_tags)"
   ]
  },
  {
   "cell_type": "code",
   "execution_count": 9,
   "id": "db9f78b1",
   "metadata": {},
   "outputs": [
    {
     "data": {
      "text/plain": [
       "40"
      ]
     },
     "execution_count": 9,
     "metadata": {},
     "output_type": "execute_result"
    }
   ],
   "source": [
    "product_descriptions = []\n",
    "\n",
    "for i in product_tags:\n",
    "    product_descriptions.append(i.text)\n",
    "len(product_descriptions)"
   ]
  },
  {
   "cell_type": "code",
   "execution_count": 10,
   "id": "a4b9558a",
   "metadata": {},
   "outputs": [
    {
     "data": {
      "text/plain": [
       "40"
      ]
     },
     "execution_count": 10,
     "metadata": {},
     "output_type": "execute_result"
    }
   ],
   "source": [
    "cost_tags = driver.find_elements_by_xpath('//a[@class=\"_3bPFwb\"]') \n",
    "len(cost_tags)"
   ]
  },
  {
   "cell_type": "code",
   "execution_count": 11,
   "id": "fc904c85",
   "metadata": {},
   "outputs": [
    {
     "data": {
      "text/plain": [
       "40"
      ]
     },
     "execution_count": 11,
     "metadata": {},
     "output_type": "execute_result"
    }
   ],
   "source": [
    "product_cost = []\n",
    "\n",
    "for i in cost_tags:\n",
    "    product_cost.append(i.text)\n",
    "len(product_cost)"
   ]
  },
  {
   "cell_type": "code",
   "execution_count": 12,
   "id": "41e0582a",
   "metadata": {},
   "outputs": [
    {
     "data": {
      "text/html": [
       "<div>\n",
       "<style scoped>\n",
       "    .dataframe tbody tr th:only-of-type {\n",
       "        vertical-align: middle;\n",
       "    }\n",
       "\n",
       "    .dataframe tbody tr th {\n",
       "        vertical-align: top;\n",
       "    }\n",
       "\n",
       "    .dataframe thead th {\n",
       "        text-align: right;\n",
       "    }\n",
       "</style>\n",
       "<table border=\"1\" class=\"dataframe\">\n",
       "  <thead>\n",
       "    <tr style=\"text-align: right;\">\n",
       "      <th></th>\n",
       "      <th>Brand Title</th>\n",
       "      <th>Product Descriptons</th>\n",
       "      <th>Product Cost</th>\n",
       "    </tr>\n",
       "  </thead>\n",
       "  <tbody>\n",
       "    <tr>\n",
       "      <th>0</th>\n",
       "      <td>UV Protection Aviator Sunglasses (54)</td>\n",
       "      <td>UV Protection Aviator Sunglasses (54)</td>\n",
       "      <td>₹200₹1,59987% off</td>\n",
       "    </tr>\n",
       "    <tr>\n",
       "      <th>1</th>\n",
       "      <td>Gradient, UV Protection Wayfarer Sunglasses (F...</td>\n",
       "      <td>Gradient, UV Protection Wayfarer Sunglasses (F...</td>\n",
       "      <td>₹409₹79948% off</td>\n",
       "    </tr>\n",
       "    <tr>\n",
       "      <th>2</th>\n",
       "      <td>UV Protection Round Sunglasses (54)</td>\n",
       "      <td>UV Protection Round Sunglasses (54)</td>\n",
       "      <td>₹248₹2,49590% off</td>\n",
       "    </tr>\n",
       "    <tr>\n",
       "      <th>3</th>\n",
       "      <td>UV Protection Wayfarer Sunglasses (Free Size)</td>\n",
       "      <td>UV Protection Wayfarer Sunglasses (Free Size)</td>\n",
       "      <td>₹609₹89932% off\\nFree delivery</td>\n",
       "    </tr>\n",
       "    <tr>\n",
       "      <th>4</th>\n",
       "      <td>UV Protection Wayfarer Sunglasses (56)</td>\n",
       "      <td>UV Protection Wayfarer Sunglasses (56)</td>\n",
       "      <td>₹198₹1,29984% off</td>\n",
       "    </tr>\n",
       "    <tr>\n",
       "      <th>5</th>\n",
       "      <td>UV Protection, Polarized, Mirrored Rectangular...</td>\n",
       "      <td>UV Protection, Polarized, Mirrored Rectangular...</td>\n",
       "      <td>₹165₹1,69990% off</td>\n",
       "    </tr>\n",
       "    <tr>\n",
       "      <th>6</th>\n",
       "      <td>UV Protection Round Sunglasses (54)</td>\n",
       "      <td>UV Protection Round Sunglasses (54)</td>\n",
       "      <td>₹188₹99981% off</td>\n",
       "    </tr>\n",
       "    <tr>\n",
       "      <th>7</th>\n",
       "      <td>UV Protection Aviator Sunglasses (54)</td>\n",
       "      <td>UV Protection Aviator Sunglasses (54)</td>\n",
       "      <td>₹200₹1,59987% off</td>\n",
       "    </tr>\n",
       "    <tr>\n",
       "      <th>8</th>\n",
       "      <td>UV Protection Retro Square Sunglasses (Free Size)</td>\n",
       "      <td>UV Protection Retro Square Sunglasses (Free Size)</td>\n",
       "      <td>₹309₹1,99984% off</td>\n",
       "    </tr>\n",
       "    <tr>\n",
       "      <th>9</th>\n",
       "      <td>UV Protection, Polarized Wayfarer Sunglasses (...</td>\n",
       "      <td>UV Protection, Polarized Wayfarer Sunglasses (...</td>\n",
       "      <td>₹243₹1,29981% off</td>\n",
       "    </tr>\n",
       "    <tr>\n",
       "      <th>10</th>\n",
       "      <td>UV Protection Wayfarer Sunglasses (32)</td>\n",
       "      <td>UV Protection Wayfarer Sunglasses (32)</td>\n",
       "      <td>₹190₹1,59988% off</td>\n",
       "    </tr>\n",
       "    <tr>\n",
       "      <th>11</th>\n",
       "      <td>UV Protection Rectangular Sunglasses (Free Size)</td>\n",
       "      <td>UV Protection Rectangular Sunglasses (Free Size)</td>\n",
       "      <td>₹259₹1,99987% off</td>\n",
       "    </tr>\n",
       "    <tr>\n",
       "      <th>12</th>\n",
       "      <td>UV Protection, Polarized, Mirrored Round Sungl...</td>\n",
       "      <td>UV Protection, Polarized, Mirrored Round Sungl...</td>\n",
       "      <td>₹271₹1,69984% off</td>\n",
       "    </tr>\n",
       "    <tr>\n",
       "      <th>13</th>\n",
       "      <td>UV Protection Round Sunglasses (50)</td>\n",
       "      <td>UV Protection Round Sunglasses (50)</td>\n",
       "      <td>₹355₹99964% off</td>\n",
       "    </tr>\n",
       "    <tr>\n",
       "      <th>14</th>\n",
       "      <td>UV Protection Aviator Sunglasses (54)</td>\n",
       "      <td>UV Protection Aviator Sunglasses (54)</td>\n",
       "      <td>₹200₹1,59987% off</td>\n",
       "    </tr>\n",
       "    <tr>\n",
       "      <th>15</th>\n",
       "      <td>UV Protection, Gradient Rectangular Sunglasses...</td>\n",
       "      <td>UV Protection, Gradient Rectangular Sunglasses...</td>\n",
       "      <td>₹383₹1,99980% off</td>\n",
       "    </tr>\n",
       "    <tr>\n",
       "      <th>16</th>\n",
       "      <td>Mirrored, UV Protection, Riding Glasses, Other...</td>\n",
       "      <td>Mirrored, UV Protection, Riding Glasses, Other...</td>\n",
       "      <td>₹262₹1,59983% off</td>\n",
       "    </tr>\n",
       "    <tr>\n",
       "      <th>17</th>\n",
       "      <td>UV Protection Aviator Sunglasses (58)</td>\n",
       "      <td>UV Protection Aviator Sunglasses (58)</td>\n",
       "      <td>₹299₹2,59988% off</td>\n",
       "    </tr>\n",
       "    <tr>\n",
       "      <th>18</th>\n",
       "      <td>UV Protection Rectangular Sunglasses (58)</td>\n",
       "      <td>UV Protection Rectangular Sunglasses (58)</td>\n",
       "      <td>₹449₹1,49970% off</td>\n",
       "    </tr>\n",
       "    <tr>\n",
       "      <th>19</th>\n",
       "      <td>UV Protection Round Sunglasses (53)</td>\n",
       "      <td>UV Protection Round Sunglasses (53)</td>\n",
       "      <td>₹189₹1,49787% off</td>\n",
       "    </tr>\n",
       "    <tr>\n",
       "      <th>20</th>\n",
       "      <td>Gradient Aviator Sunglasses (55)</td>\n",
       "      <td>Gradient Aviator Sunglasses (55)</td>\n",
       "      <td>₹196₹1,14982% off</td>\n",
       "    </tr>\n",
       "    <tr>\n",
       "      <th>21</th>\n",
       "      <td>Mirrored, Gradient, UV Protection Aviator Sung...</td>\n",
       "      <td>Mirrored, Gradient, UV Protection Aviator Sung...</td>\n",
       "      <td>₹178₹1,26685% off</td>\n",
       "    </tr>\n",
       "    <tr>\n",
       "      <th>22</th>\n",
       "      <td>Mirrored, UV Protection Wayfarer Sunglasses (53)</td>\n",
       "      <td>Mirrored, UV Protection Wayfarer Sunglasses (53)</td>\n",
       "      <td>₹273₹1,99986% off</td>\n",
       "    </tr>\n",
       "    <tr>\n",
       "      <th>23</th>\n",
       "      <td>Riding Glasses, Night Vision Wrap-around Sungl...</td>\n",
       "      <td>Riding Glasses, Night Vision Wrap-around Sungl...</td>\n",
       "      <td>₹276₹2,49988% off</td>\n",
       "    </tr>\n",
       "    <tr>\n",
       "      <th>24</th>\n",
       "      <td>UV Protection Retro Square Sunglasses (Free Size)</td>\n",
       "      <td>UV Protection Retro Square Sunglasses (Free Size)</td>\n",
       "      <td>₹474₹2,22578% off</td>\n",
       "    </tr>\n",
       "    <tr>\n",
       "      <th>25</th>\n",
       "      <td>Mirrored Aviator Sunglasses (55)</td>\n",
       "      <td>Mirrored Aviator Sunglasses (55)</td>\n",
       "      <td>₹359₹1,49976% off</td>\n",
       "    </tr>\n",
       "    <tr>\n",
       "      <th>26</th>\n",
       "      <td>UV Protection, Polarized, Mirrored Rectangular...</td>\n",
       "      <td>UV Protection, Polarized, Mirrored Rectangular...</td>\n",
       "      <td>₹181₹99981% off</td>\n",
       "    </tr>\n",
       "    <tr>\n",
       "      <th>27</th>\n",
       "      <td>Gradient, Toughened Glass Lens, UV Protection ...</td>\n",
       "      <td>Gradient, Toughened Glass Lens, UV Protection ...</td>\n",
       "      <td>₹599₹2,99980% off\\nFree delivery</td>\n",
       "    </tr>\n",
       "    <tr>\n",
       "      <th>28</th>\n",
       "      <td>UV Protection Round Sunglasses (54)</td>\n",
       "      <td>UV Protection Round Sunglasses (54)</td>\n",
       "      <td>₹265₹1,29979% off</td>\n",
       "    </tr>\n",
       "    <tr>\n",
       "      <th>29</th>\n",
       "      <td>UV Protection Round Sunglasses (Free Size)</td>\n",
       "      <td>UV Protection Round Sunglasses (Free Size)</td>\n",
       "      <td>₹233₹1,29982% off</td>\n",
       "    </tr>\n",
       "    <tr>\n",
       "      <th>30</th>\n",
       "      <td>Mirrored Aviator Sunglasses (Free Size)</td>\n",
       "      <td>Mirrored Aviator Sunglasses (Free Size)</td>\n",
       "      <td>₹359₹1,49976% off</td>\n",
       "    </tr>\n",
       "    <tr>\n",
       "      <th>31</th>\n",
       "      <td>UV Protection, Mirrored Retro Square Sunglasse...</td>\n",
       "      <td>UV Protection, Mirrored Retro Square Sunglasse...</td>\n",
       "      <td>₹299₹1,99985% off</td>\n",
       "    </tr>\n",
       "    <tr>\n",
       "      <th>32</th>\n",
       "      <td>UV Protection, Riding Glasses, Mirrored Wayfar...</td>\n",
       "      <td>UV Protection, Riding Glasses, Mirrored Wayfar...</td>\n",
       "      <td>₹187₹1,19984% off</td>\n",
       "    </tr>\n",
       "    <tr>\n",
       "      <th>33</th>\n",
       "      <td>UV Protection Aviator, Wayfarer Sunglasses (Fr...</td>\n",
       "      <td>UV Protection Aviator, Wayfarer Sunglasses (Fr...</td>\n",
       "      <td>₹229₹1,19980% off</td>\n",
       "    </tr>\n",
       "    <tr>\n",
       "      <th>34</th>\n",
       "      <td>Polarized Round Sunglasses (48)</td>\n",
       "      <td>Polarized Round Sunglasses (48)</td>\n",
       "      <td>₹165₹49966% off</td>\n",
       "    </tr>\n",
       "    <tr>\n",
       "      <th>35</th>\n",
       "      <td>UV Protection Round Sunglasses (Free Size)</td>\n",
       "      <td>UV Protection Round Sunglasses (Free Size)</td>\n",
       "      <td>₹289₹1,59981% off</td>\n",
       "    </tr>\n",
       "    <tr>\n",
       "      <th>36</th>\n",
       "      <td>UV Protection, Mirrored Retro Square Sunglasse...</td>\n",
       "      <td>UV Protection, Mirrored Retro Square Sunglasse...</td>\n",
       "      <td>₹299₹1,99985% off</td>\n",
       "    </tr>\n",
       "    <tr>\n",
       "      <th>37</th>\n",
       "      <td>Mirrored Aviator Sunglasses (55)</td>\n",
       "      <td>Mirrored Aviator Sunglasses (55)</td>\n",
       "      <td>₹359₹1,49976% off</td>\n",
       "    </tr>\n",
       "    <tr>\n",
       "      <th>38</th>\n",
       "      <td>UV Protection Aviator Sunglasses (58)</td>\n",
       "      <td>UV Protection Aviator Sunglasses (58)</td>\n",
       "      <td>₹869₹1,29933% off\\nFree delivery</td>\n",
       "    </tr>\n",
       "    <tr>\n",
       "      <th>39</th>\n",
       "      <td>UV Protection, Gradient Round Sunglasses (Free...</td>\n",
       "      <td>UV Protection, Gradient Round Sunglasses (Free...</td>\n",
       "      <td>₹360₹1,99981% off</td>\n",
       "    </tr>\n",
       "  </tbody>\n",
       "</table>\n",
       "</div>"
      ],
      "text/plain": [
       "                                          Brand Title  \\\n",
       "0               UV Protection Aviator Sunglasses (54)   \n",
       "1   Gradient, UV Protection Wayfarer Sunglasses (F...   \n",
       "2                 UV Protection Round Sunglasses (54)   \n",
       "3       UV Protection Wayfarer Sunglasses (Free Size)   \n",
       "4              UV Protection Wayfarer Sunglasses (56)   \n",
       "5   UV Protection, Polarized, Mirrored Rectangular...   \n",
       "6                 UV Protection Round Sunglasses (54)   \n",
       "7               UV Protection Aviator Sunglasses (54)   \n",
       "8   UV Protection Retro Square Sunglasses (Free Size)   \n",
       "9   UV Protection, Polarized Wayfarer Sunglasses (...   \n",
       "10             UV Protection Wayfarer Sunglasses (32)   \n",
       "11   UV Protection Rectangular Sunglasses (Free Size)   \n",
       "12  UV Protection, Polarized, Mirrored Round Sungl...   \n",
       "13                UV Protection Round Sunglasses (50)   \n",
       "14              UV Protection Aviator Sunglasses (54)   \n",
       "15  UV Protection, Gradient Rectangular Sunglasses...   \n",
       "16  Mirrored, UV Protection, Riding Glasses, Other...   \n",
       "17              UV Protection Aviator Sunglasses (58)   \n",
       "18          UV Protection Rectangular Sunglasses (58)   \n",
       "19                UV Protection Round Sunglasses (53)   \n",
       "20                   Gradient Aviator Sunglasses (55)   \n",
       "21  Mirrored, Gradient, UV Protection Aviator Sung...   \n",
       "22   Mirrored, UV Protection Wayfarer Sunglasses (53)   \n",
       "23  Riding Glasses, Night Vision Wrap-around Sungl...   \n",
       "24  UV Protection Retro Square Sunglasses (Free Size)   \n",
       "25                   Mirrored Aviator Sunglasses (55)   \n",
       "26  UV Protection, Polarized, Mirrored Rectangular...   \n",
       "27  Gradient, Toughened Glass Lens, UV Protection ...   \n",
       "28                UV Protection Round Sunglasses (54)   \n",
       "29         UV Protection Round Sunglasses (Free Size)   \n",
       "30            Mirrored Aviator Sunglasses (Free Size)   \n",
       "31  UV Protection, Mirrored Retro Square Sunglasse...   \n",
       "32  UV Protection, Riding Glasses, Mirrored Wayfar...   \n",
       "33  UV Protection Aviator, Wayfarer Sunglasses (Fr...   \n",
       "34                    Polarized Round Sunglasses (48)   \n",
       "35         UV Protection Round Sunglasses (Free Size)   \n",
       "36  UV Protection, Mirrored Retro Square Sunglasse...   \n",
       "37                   Mirrored Aviator Sunglasses (55)   \n",
       "38              UV Protection Aviator Sunglasses (58)   \n",
       "39  UV Protection, Gradient Round Sunglasses (Free...   \n",
       "\n",
       "                                  Product Descriptons  \\\n",
       "0               UV Protection Aviator Sunglasses (54)   \n",
       "1   Gradient, UV Protection Wayfarer Sunglasses (F...   \n",
       "2                 UV Protection Round Sunglasses (54)   \n",
       "3       UV Protection Wayfarer Sunglasses (Free Size)   \n",
       "4              UV Protection Wayfarer Sunglasses (56)   \n",
       "5   UV Protection, Polarized, Mirrored Rectangular...   \n",
       "6                 UV Protection Round Sunglasses (54)   \n",
       "7               UV Protection Aviator Sunglasses (54)   \n",
       "8   UV Protection Retro Square Sunglasses (Free Size)   \n",
       "9   UV Protection, Polarized Wayfarer Sunglasses (...   \n",
       "10             UV Protection Wayfarer Sunglasses (32)   \n",
       "11   UV Protection Rectangular Sunglasses (Free Size)   \n",
       "12  UV Protection, Polarized, Mirrored Round Sungl...   \n",
       "13                UV Protection Round Sunglasses (50)   \n",
       "14              UV Protection Aviator Sunglasses (54)   \n",
       "15  UV Protection, Gradient Rectangular Sunglasses...   \n",
       "16  Mirrored, UV Protection, Riding Glasses, Other...   \n",
       "17              UV Protection Aviator Sunglasses (58)   \n",
       "18          UV Protection Rectangular Sunglasses (58)   \n",
       "19                UV Protection Round Sunglasses (53)   \n",
       "20                   Gradient Aviator Sunglasses (55)   \n",
       "21  Mirrored, Gradient, UV Protection Aviator Sung...   \n",
       "22   Mirrored, UV Protection Wayfarer Sunglasses (53)   \n",
       "23  Riding Glasses, Night Vision Wrap-around Sungl...   \n",
       "24  UV Protection Retro Square Sunglasses (Free Size)   \n",
       "25                   Mirrored Aviator Sunglasses (55)   \n",
       "26  UV Protection, Polarized, Mirrored Rectangular...   \n",
       "27  Gradient, Toughened Glass Lens, UV Protection ...   \n",
       "28                UV Protection Round Sunglasses (54)   \n",
       "29         UV Protection Round Sunglasses (Free Size)   \n",
       "30            Mirrored Aviator Sunglasses (Free Size)   \n",
       "31  UV Protection, Mirrored Retro Square Sunglasse...   \n",
       "32  UV Protection, Riding Glasses, Mirrored Wayfar...   \n",
       "33  UV Protection Aviator, Wayfarer Sunglasses (Fr...   \n",
       "34                    Polarized Round Sunglasses (48)   \n",
       "35         UV Protection Round Sunglasses (Free Size)   \n",
       "36  UV Protection, Mirrored Retro Square Sunglasse...   \n",
       "37                   Mirrored Aviator Sunglasses (55)   \n",
       "38              UV Protection Aviator Sunglasses (58)   \n",
       "39  UV Protection, Gradient Round Sunglasses (Free...   \n",
       "\n",
       "                        Product Cost  \n",
       "0                  ₹200₹1,59987% off  \n",
       "1                    ₹409₹79948% off  \n",
       "2                  ₹248₹2,49590% off  \n",
       "3     ₹609₹89932% off\\nFree delivery  \n",
       "4                  ₹198₹1,29984% off  \n",
       "5                  ₹165₹1,69990% off  \n",
       "6                    ₹188₹99981% off  \n",
       "7                  ₹200₹1,59987% off  \n",
       "8                  ₹309₹1,99984% off  \n",
       "9                  ₹243₹1,29981% off  \n",
       "10                 ₹190₹1,59988% off  \n",
       "11                 ₹259₹1,99987% off  \n",
       "12                 ₹271₹1,69984% off  \n",
       "13                   ₹355₹99964% off  \n",
       "14                 ₹200₹1,59987% off  \n",
       "15                 ₹383₹1,99980% off  \n",
       "16                 ₹262₹1,59983% off  \n",
       "17                 ₹299₹2,59988% off  \n",
       "18                 ₹449₹1,49970% off  \n",
       "19                 ₹189₹1,49787% off  \n",
       "20                 ₹196₹1,14982% off  \n",
       "21                 ₹178₹1,26685% off  \n",
       "22                 ₹273₹1,99986% off  \n",
       "23                 ₹276₹2,49988% off  \n",
       "24                 ₹474₹2,22578% off  \n",
       "25                 ₹359₹1,49976% off  \n",
       "26                   ₹181₹99981% off  \n",
       "27  ₹599₹2,99980% off\\nFree delivery  \n",
       "28                 ₹265₹1,29979% off  \n",
       "29                 ₹233₹1,29982% off  \n",
       "30                 ₹359₹1,49976% off  \n",
       "31                 ₹299₹1,99985% off  \n",
       "32                 ₹187₹1,19984% off  \n",
       "33                 ₹229₹1,19980% off  \n",
       "34                   ₹165₹49966% off  \n",
       "35                 ₹289₹1,59981% off  \n",
       "36                 ₹299₹1,99985% off  \n",
       "37                 ₹359₹1,49976% off  \n",
       "38  ₹869₹1,29933% off\\nFree delivery  \n",
       "39                 ₹360₹1,99981% off  "
      ]
     },
     "execution_count": 12,
     "metadata": {},
     "output_type": "execute_result"
    }
   ],
   "source": [
    "products = pd.DataFrame()\n",
    "products['Brand Title'] = brand_titles\n",
    "products['Product Descriptons'] = product_descriptions\n",
    "products['Product Cost'] = product_cost\n",
    "products"
   ]
  },
  {
   "cell_type": "code",
   "execution_count": 16,
   "id": "5bb94c3b",
   "metadata": {},
   "outputs": [],
   "source": [
    "page_url = [] # a list containg url's of every page\n",
    "\n",
    "url = driver.find_elements_by_xpath(\"//nav[@class='yFHi8N']//a\")\n",
    "\n",
    "for i in url:\n",
    "\n",
    "    page_url.append(i.get_attribute('/html/body/div/div/div[3]/div[1]/div[2]/div[12]/div/div/nav/a[2]')) "
   ]
  },
  {
   "cell_type": "code",
   "execution_count": 17,
   "id": "9f588da1",
   "metadata": {},
   "outputs": [
    {
     "data": {
      "text/html": [
       "<div>\n",
       "<style scoped>\n",
       "    .dataframe tbody tr th:only-of-type {\n",
       "        vertical-align: middle;\n",
       "    }\n",
       "\n",
       "    .dataframe tbody tr th {\n",
       "        vertical-align: top;\n",
       "    }\n",
       "\n",
       "    .dataframe thead th {\n",
       "        text-align: right;\n",
       "    }\n",
       "</style>\n",
       "<table border=\"1\" class=\"dataframe\">\n",
       "  <thead>\n",
       "    <tr style=\"text-align: right;\">\n",
       "      <th></th>\n",
       "      <th>Brand Title</th>\n",
       "      <th>Product Descriptons</th>\n",
       "      <th>Product Cost</th>\n",
       "    </tr>\n",
       "  </thead>\n",
       "  <tbody>\n",
       "    <tr>\n",
       "      <th>0</th>\n",
       "      <td>UV Protection Aviator Sunglasses (54)</td>\n",
       "      <td>UV Protection Aviator Sunglasses (54)</td>\n",
       "      <td>₹200₹1,59987% off</td>\n",
       "    </tr>\n",
       "    <tr>\n",
       "      <th>1</th>\n",
       "      <td>Gradient, UV Protection Wayfarer Sunglasses (F...</td>\n",
       "      <td>Gradient, UV Protection Wayfarer Sunglasses (F...</td>\n",
       "      <td>₹409₹79948% off</td>\n",
       "    </tr>\n",
       "    <tr>\n",
       "      <th>2</th>\n",
       "      <td>UV Protection Round Sunglasses (54)</td>\n",
       "      <td>UV Protection Round Sunglasses (54)</td>\n",
       "      <td>₹248₹2,49590% off</td>\n",
       "    </tr>\n",
       "    <tr>\n",
       "      <th>3</th>\n",
       "      <td>UV Protection Wayfarer Sunglasses (Free Size)</td>\n",
       "      <td>UV Protection Wayfarer Sunglasses (Free Size)</td>\n",
       "      <td>₹609₹89932% off\\nFree delivery</td>\n",
       "    </tr>\n",
       "    <tr>\n",
       "      <th>4</th>\n",
       "      <td>UV Protection Wayfarer Sunglasses (56)</td>\n",
       "      <td>UV Protection Wayfarer Sunglasses (56)</td>\n",
       "      <td>₹198₹1,29984% off</td>\n",
       "    </tr>\n",
       "    <tr>\n",
       "      <th>5</th>\n",
       "      <td>UV Protection, Polarized, Mirrored Rectangular...</td>\n",
       "      <td>UV Protection, Polarized, Mirrored Rectangular...</td>\n",
       "      <td>₹165₹1,69990% off</td>\n",
       "    </tr>\n",
       "    <tr>\n",
       "      <th>6</th>\n",
       "      <td>UV Protection Round Sunglasses (54)</td>\n",
       "      <td>UV Protection Round Sunglasses (54)</td>\n",
       "      <td>₹188₹99981% off</td>\n",
       "    </tr>\n",
       "    <tr>\n",
       "      <th>7</th>\n",
       "      <td>UV Protection Aviator Sunglasses (54)</td>\n",
       "      <td>UV Protection Aviator Sunglasses (54)</td>\n",
       "      <td>₹200₹1,59987% off</td>\n",
       "    </tr>\n",
       "    <tr>\n",
       "      <th>8</th>\n",
       "      <td>UV Protection Retro Square Sunglasses (Free Size)</td>\n",
       "      <td>UV Protection Retro Square Sunglasses (Free Size)</td>\n",
       "      <td>₹309₹1,99984% off</td>\n",
       "    </tr>\n",
       "    <tr>\n",
       "      <th>9</th>\n",
       "      <td>UV Protection, Polarized Wayfarer Sunglasses (...</td>\n",
       "      <td>UV Protection, Polarized Wayfarer Sunglasses (...</td>\n",
       "      <td>₹243₹1,29981% off</td>\n",
       "    </tr>\n",
       "    <tr>\n",
       "      <th>10</th>\n",
       "      <td>UV Protection Wayfarer Sunglasses (32)</td>\n",
       "      <td>UV Protection Wayfarer Sunglasses (32)</td>\n",
       "      <td>₹190₹1,59988% off</td>\n",
       "    </tr>\n",
       "    <tr>\n",
       "      <th>11</th>\n",
       "      <td>UV Protection Rectangular Sunglasses (Free Size)</td>\n",
       "      <td>UV Protection Rectangular Sunglasses (Free Size)</td>\n",
       "      <td>₹259₹1,99987% off</td>\n",
       "    </tr>\n",
       "    <tr>\n",
       "      <th>12</th>\n",
       "      <td>UV Protection, Polarized, Mirrored Round Sungl...</td>\n",
       "      <td>UV Protection, Polarized, Mirrored Round Sungl...</td>\n",
       "      <td>₹271₹1,69984% off</td>\n",
       "    </tr>\n",
       "    <tr>\n",
       "      <th>13</th>\n",
       "      <td>UV Protection Round Sunglasses (50)</td>\n",
       "      <td>UV Protection Round Sunglasses (50)</td>\n",
       "      <td>₹355₹99964% off</td>\n",
       "    </tr>\n",
       "    <tr>\n",
       "      <th>14</th>\n",
       "      <td>UV Protection Aviator Sunglasses (54)</td>\n",
       "      <td>UV Protection Aviator Sunglasses (54)</td>\n",
       "      <td>₹200₹1,59987% off</td>\n",
       "    </tr>\n",
       "    <tr>\n",
       "      <th>15</th>\n",
       "      <td>UV Protection, Gradient Rectangular Sunglasses...</td>\n",
       "      <td>UV Protection, Gradient Rectangular Sunglasses...</td>\n",
       "      <td>₹383₹1,99980% off</td>\n",
       "    </tr>\n",
       "    <tr>\n",
       "      <th>16</th>\n",
       "      <td>Mirrored, UV Protection, Riding Glasses, Other...</td>\n",
       "      <td>Mirrored, UV Protection, Riding Glasses, Other...</td>\n",
       "      <td>₹262₹1,59983% off</td>\n",
       "    </tr>\n",
       "    <tr>\n",
       "      <th>17</th>\n",
       "      <td>UV Protection Aviator Sunglasses (58)</td>\n",
       "      <td>UV Protection Aviator Sunglasses (58)</td>\n",
       "      <td>₹299₹2,59988% off</td>\n",
       "    </tr>\n",
       "    <tr>\n",
       "      <th>18</th>\n",
       "      <td>UV Protection Rectangular Sunglasses (58)</td>\n",
       "      <td>UV Protection Rectangular Sunglasses (58)</td>\n",
       "      <td>₹449₹1,49970% off</td>\n",
       "    </tr>\n",
       "    <tr>\n",
       "      <th>19</th>\n",
       "      <td>UV Protection Round Sunglasses (53)</td>\n",
       "      <td>UV Protection Round Sunglasses (53)</td>\n",
       "      <td>₹189₹1,49787% off</td>\n",
       "    </tr>\n",
       "    <tr>\n",
       "      <th>20</th>\n",
       "      <td>Gradient Aviator Sunglasses (55)</td>\n",
       "      <td>Gradient Aviator Sunglasses (55)</td>\n",
       "      <td>₹196₹1,14982% off</td>\n",
       "    </tr>\n",
       "    <tr>\n",
       "      <th>21</th>\n",
       "      <td>Mirrored, Gradient, UV Protection Aviator Sung...</td>\n",
       "      <td>Mirrored, Gradient, UV Protection Aviator Sung...</td>\n",
       "      <td>₹178₹1,26685% off</td>\n",
       "    </tr>\n",
       "    <tr>\n",
       "      <th>22</th>\n",
       "      <td>Mirrored, UV Protection Wayfarer Sunglasses (53)</td>\n",
       "      <td>Mirrored, UV Protection Wayfarer Sunglasses (53)</td>\n",
       "      <td>₹273₹1,99986% off</td>\n",
       "    </tr>\n",
       "    <tr>\n",
       "      <th>23</th>\n",
       "      <td>Riding Glasses, Night Vision Wrap-around Sungl...</td>\n",
       "      <td>Riding Glasses, Night Vision Wrap-around Sungl...</td>\n",
       "      <td>₹276₹2,49988% off</td>\n",
       "    </tr>\n",
       "    <tr>\n",
       "      <th>24</th>\n",
       "      <td>UV Protection Retro Square Sunglasses (Free Size)</td>\n",
       "      <td>UV Protection Retro Square Sunglasses (Free Size)</td>\n",
       "      <td>₹474₹2,22578% off</td>\n",
       "    </tr>\n",
       "    <tr>\n",
       "      <th>25</th>\n",
       "      <td>Mirrored Aviator Sunglasses (55)</td>\n",
       "      <td>Mirrored Aviator Sunglasses (55)</td>\n",
       "      <td>₹359₹1,49976% off</td>\n",
       "    </tr>\n",
       "    <tr>\n",
       "      <th>26</th>\n",
       "      <td>UV Protection, Polarized, Mirrored Rectangular...</td>\n",
       "      <td>UV Protection, Polarized, Mirrored Rectangular...</td>\n",
       "      <td>₹181₹99981% off</td>\n",
       "    </tr>\n",
       "    <tr>\n",
       "      <th>27</th>\n",
       "      <td>Gradient, Toughened Glass Lens, UV Protection ...</td>\n",
       "      <td>Gradient, Toughened Glass Lens, UV Protection ...</td>\n",
       "      <td>₹599₹2,99980% off\\nFree delivery</td>\n",
       "    </tr>\n",
       "    <tr>\n",
       "      <th>28</th>\n",
       "      <td>UV Protection Round Sunglasses (54)</td>\n",
       "      <td>UV Protection Round Sunglasses (54)</td>\n",
       "      <td>₹265₹1,29979% off</td>\n",
       "    </tr>\n",
       "    <tr>\n",
       "      <th>29</th>\n",
       "      <td>UV Protection Round Sunglasses (Free Size)</td>\n",
       "      <td>UV Protection Round Sunglasses (Free Size)</td>\n",
       "      <td>₹233₹1,29982% off</td>\n",
       "    </tr>\n",
       "    <tr>\n",
       "      <th>30</th>\n",
       "      <td>Mirrored Aviator Sunglasses (Free Size)</td>\n",
       "      <td>Mirrored Aviator Sunglasses (Free Size)</td>\n",
       "      <td>₹359₹1,49976% off</td>\n",
       "    </tr>\n",
       "    <tr>\n",
       "      <th>31</th>\n",
       "      <td>UV Protection, Mirrored Retro Square Sunglasse...</td>\n",
       "      <td>UV Protection, Mirrored Retro Square Sunglasse...</td>\n",
       "      <td>₹299₹1,99985% off</td>\n",
       "    </tr>\n",
       "    <tr>\n",
       "      <th>32</th>\n",
       "      <td>UV Protection, Riding Glasses, Mirrored Wayfar...</td>\n",
       "      <td>UV Protection, Riding Glasses, Mirrored Wayfar...</td>\n",
       "      <td>₹187₹1,19984% off</td>\n",
       "    </tr>\n",
       "    <tr>\n",
       "      <th>33</th>\n",
       "      <td>UV Protection Aviator, Wayfarer Sunglasses (Fr...</td>\n",
       "      <td>UV Protection Aviator, Wayfarer Sunglasses (Fr...</td>\n",
       "      <td>₹229₹1,19980% off</td>\n",
       "    </tr>\n",
       "    <tr>\n",
       "      <th>34</th>\n",
       "      <td>Polarized Round Sunglasses (48)</td>\n",
       "      <td>Polarized Round Sunglasses (48)</td>\n",
       "      <td>₹165₹49966% off</td>\n",
       "    </tr>\n",
       "    <tr>\n",
       "      <th>35</th>\n",
       "      <td>UV Protection Round Sunglasses (Free Size)</td>\n",
       "      <td>UV Protection Round Sunglasses (Free Size)</td>\n",
       "      <td>₹289₹1,59981% off</td>\n",
       "    </tr>\n",
       "    <tr>\n",
       "      <th>36</th>\n",
       "      <td>UV Protection, Mirrored Retro Square Sunglasse...</td>\n",
       "      <td>UV Protection, Mirrored Retro Square Sunglasse...</td>\n",
       "      <td>₹299₹1,99985% off</td>\n",
       "    </tr>\n",
       "    <tr>\n",
       "      <th>37</th>\n",
       "      <td>Mirrored Aviator Sunglasses (55)</td>\n",
       "      <td>Mirrored Aviator Sunglasses (55)</td>\n",
       "      <td>₹359₹1,49976% off</td>\n",
       "    </tr>\n",
       "    <tr>\n",
       "      <th>38</th>\n",
       "      <td>UV Protection Aviator Sunglasses (58)</td>\n",
       "      <td>UV Protection Aviator Sunglasses (58)</td>\n",
       "      <td>₹869₹1,29933% off\\nFree delivery</td>\n",
       "    </tr>\n",
       "    <tr>\n",
       "      <th>39</th>\n",
       "      <td>UV Protection, Gradient Round Sunglasses (Free...</td>\n",
       "      <td>UV Protection, Gradient Round Sunglasses (Free...</td>\n",
       "      <td>₹360₹1,99981% off</td>\n",
       "    </tr>\n",
       "  </tbody>\n",
       "</table>\n",
       "</div>"
      ],
      "text/plain": [
       "                                          Brand Title  \\\n",
       "0               UV Protection Aviator Sunglasses (54)   \n",
       "1   Gradient, UV Protection Wayfarer Sunglasses (F...   \n",
       "2                 UV Protection Round Sunglasses (54)   \n",
       "3       UV Protection Wayfarer Sunglasses (Free Size)   \n",
       "4              UV Protection Wayfarer Sunglasses (56)   \n",
       "5   UV Protection, Polarized, Mirrored Rectangular...   \n",
       "6                 UV Protection Round Sunglasses (54)   \n",
       "7               UV Protection Aviator Sunglasses (54)   \n",
       "8   UV Protection Retro Square Sunglasses (Free Size)   \n",
       "9   UV Protection, Polarized Wayfarer Sunglasses (...   \n",
       "10             UV Protection Wayfarer Sunglasses (32)   \n",
       "11   UV Protection Rectangular Sunglasses (Free Size)   \n",
       "12  UV Protection, Polarized, Mirrored Round Sungl...   \n",
       "13                UV Protection Round Sunglasses (50)   \n",
       "14              UV Protection Aviator Sunglasses (54)   \n",
       "15  UV Protection, Gradient Rectangular Sunglasses...   \n",
       "16  Mirrored, UV Protection, Riding Glasses, Other...   \n",
       "17              UV Protection Aviator Sunglasses (58)   \n",
       "18          UV Protection Rectangular Sunglasses (58)   \n",
       "19                UV Protection Round Sunglasses (53)   \n",
       "20                   Gradient Aviator Sunglasses (55)   \n",
       "21  Mirrored, Gradient, UV Protection Aviator Sung...   \n",
       "22   Mirrored, UV Protection Wayfarer Sunglasses (53)   \n",
       "23  Riding Glasses, Night Vision Wrap-around Sungl...   \n",
       "24  UV Protection Retro Square Sunglasses (Free Size)   \n",
       "25                   Mirrored Aviator Sunglasses (55)   \n",
       "26  UV Protection, Polarized, Mirrored Rectangular...   \n",
       "27  Gradient, Toughened Glass Lens, UV Protection ...   \n",
       "28                UV Protection Round Sunglasses (54)   \n",
       "29         UV Protection Round Sunglasses (Free Size)   \n",
       "30            Mirrored Aviator Sunglasses (Free Size)   \n",
       "31  UV Protection, Mirrored Retro Square Sunglasse...   \n",
       "32  UV Protection, Riding Glasses, Mirrored Wayfar...   \n",
       "33  UV Protection Aviator, Wayfarer Sunglasses (Fr...   \n",
       "34                    Polarized Round Sunglasses (48)   \n",
       "35         UV Protection Round Sunglasses (Free Size)   \n",
       "36  UV Protection, Mirrored Retro Square Sunglasse...   \n",
       "37                   Mirrored Aviator Sunglasses (55)   \n",
       "38              UV Protection Aviator Sunglasses (58)   \n",
       "39  UV Protection, Gradient Round Sunglasses (Free...   \n",
       "\n",
       "                                  Product Descriptons  \\\n",
       "0               UV Protection Aviator Sunglasses (54)   \n",
       "1   Gradient, UV Protection Wayfarer Sunglasses (F...   \n",
       "2                 UV Protection Round Sunglasses (54)   \n",
       "3       UV Protection Wayfarer Sunglasses (Free Size)   \n",
       "4              UV Protection Wayfarer Sunglasses (56)   \n",
       "5   UV Protection, Polarized, Mirrored Rectangular...   \n",
       "6                 UV Protection Round Sunglasses (54)   \n",
       "7               UV Protection Aviator Sunglasses (54)   \n",
       "8   UV Protection Retro Square Sunglasses (Free Size)   \n",
       "9   UV Protection, Polarized Wayfarer Sunglasses (...   \n",
       "10             UV Protection Wayfarer Sunglasses (32)   \n",
       "11   UV Protection Rectangular Sunglasses (Free Size)   \n",
       "12  UV Protection, Polarized, Mirrored Round Sungl...   \n",
       "13                UV Protection Round Sunglasses (50)   \n",
       "14              UV Protection Aviator Sunglasses (54)   \n",
       "15  UV Protection, Gradient Rectangular Sunglasses...   \n",
       "16  Mirrored, UV Protection, Riding Glasses, Other...   \n",
       "17              UV Protection Aviator Sunglasses (58)   \n",
       "18          UV Protection Rectangular Sunglasses (58)   \n",
       "19                UV Protection Round Sunglasses (53)   \n",
       "20                   Gradient Aviator Sunglasses (55)   \n",
       "21  Mirrored, Gradient, UV Protection Aviator Sung...   \n",
       "22   Mirrored, UV Protection Wayfarer Sunglasses (53)   \n",
       "23  Riding Glasses, Night Vision Wrap-around Sungl...   \n",
       "24  UV Protection Retro Square Sunglasses (Free Size)   \n",
       "25                   Mirrored Aviator Sunglasses (55)   \n",
       "26  UV Protection, Polarized, Mirrored Rectangular...   \n",
       "27  Gradient, Toughened Glass Lens, UV Protection ...   \n",
       "28                UV Protection Round Sunglasses (54)   \n",
       "29         UV Protection Round Sunglasses (Free Size)   \n",
       "30            Mirrored Aviator Sunglasses (Free Size)   \n",
       "31  UV Protection, Mirrored Retro Square Sunglasse...   \n",
       "32  UV Protection, Riding Glasses, Mirrored Wayfar...   \n",
       "33  UV Protection Aviator, Wayfarer Sunglasses (Fr...   \n",
       "34                    Polarized Round Sunglasses (48)   \n",
       "35         UV Protection Round Sunglasses (Free Size)   \n",
       "36  UV Protection, Mirrored Retro Square Sunglasse...   \n",
       "37                   Mirrored Aviator Sunglasses (55)   \n",
       "38              UV Protection Aviator Sunglasses (58)   \n",
       "39  UV Protection, Gradient Round Sunglasses (Free...   \n",
       "\n",
       "                        Product Cost  \n",
       "0                  ₹200₹1,59987% off  \n",
       "1                    ₹409₹79948% off  \n",
       "2                  ₹248₹2,49590% off  \n",
       "3     ₹609₹89932% off\\nFree delivery  \n",
       "4                  ₹198₹1,29984% off  \n",
       "5                  ₹165₹1,69990% off  \n",
       "6                    ₹188₹99981% off  \n",
       "7                  ₹200₹1,59987% off  \n",
       "8                  ₹309₹1,99984% off  \n",
       "9                  ₹243₹1,29981% off  \n",
       "10                 ₹190₹1,59988% off  \n",
       "11                 ₹259₹1,99987% off  \n",
       "12                 ₹271₹1,69984% off  \n",
       "13                   ₹355₹99964% off  \n",
       "14                 ₹200₹1,59987% off  \n",
       "15                 ₹383₹1,99980% off  \n",
       "16                 ₹262₹1,59983% off  \n",
       "17                 ₹299₹2,59988% off  \n",
       "18                 ₹449₹1,49970% off  \n",
       "19                 ₹189₹1,49787% off  \n",
       "20                 ₹196₹1,14982% off  \n",
       "21                 ₹178₹1,26685% off  \n",
       "22                 ₹273₹1,99986% off  \n",
       "23                 ₹276₹2,49988% off  \n",
       "24                 ₹474₹2,22578% off  \n",
       "25                 ₹359₹1,49976% off  \n",
       "26                   ₹181₹99981% off  \n",
       "27  ₹599₹2,99980% off\\nFree delivery  \n",
       "28                 ₹265₹1,29979% off  \n",
       "29                 ₹233₹1,29982% off  \n",
       "30                 ₹359₹1,49976% off  \n",
       "31                 ₹299₹1,99985% off  \n",
       "32                 ₹187₹1,19984% off  \n",
       "33                 ₹229₹1,19980% off  \n",
       "34                   ₹165₹49966% off  \n",
       "35                 ₹289₹1,59981% off  \n",
       "36                 ₹299₹1,99985% off  \n",
       "37                 ₹359₹1,49976% off  \n",
       "38  ₹869₹1,29933% off\\nFree delivery  \n",
       "39                 ₹360₹1,99981% off  "
      ]
     },
     "execution_count": 17,
     "metadata": {},
     "output_type": "execute_result"
    }
   ],
   "source": [
    "products = pd.DataFrame()\n",
    "products['Brand Title'] = brand_titles\n",
    "products['Product Descriptons'] = product_descriptions\n",
    "products['Product Cost'] = product_cost\n",
    "products"
   ]
  },
  {
   "cell_type": "code",
   "execution_count": 23,
   "id": "7f17dac3",
   "metadata": {},
   "outputs": [
    {
     "name": "stdout",
     "output_type": "stream",
     "text": [
      "Requirement already satisfied: selenium in c:\\programdata\\anaconda3\\lib\\site-packages (4.1.0)\n",
      "Requirement already satisfied: trio~=0.17 in c:\\programdata\\anaconda3\\lib\\site-packages (from selenium) (0.19.0)\n",
      "Requirement already satisfied: trio-websocket~=0.9 in c:\\programdata\\anaconda3\\lib\\site-packages (from selenium) (0.9.2)\n",
      "Requirement already satisfied: urllib3[secure]~=1.26 in c:\\programdata\\anaconda3\\lib\\site-packages (from selenium) (1.26.4)\n",
      "Requirement already satisfied: cffi>=1.14 in c:\\programdata\\anaconda3\\lib\\site-packages (from trio~=0.17->selenium) (1.14.5)\n",
      "Requirement already satisfied: outcome in c:\\programdata\\anaconda3\\lib\\site-packages (from trio~=0.17->selenium) (1.1.0)\n",
      "Requirement already satisfied: async-generator>=1.9 in c:\\programdata\\anaconda3\\lib\\site-packages (from trio~=0.17->selenium) (1.10)\n",
      "Requirement already satisfied: idna in c:\\programdata\\anaconda3\\lib\\site-packages (from trio~=0.17->selenium) (2.10)\n",
      "Requirement already satisfied: sniffio in c:\\programdata\\anaconda3\\lib\\site-packages (from trio~=0.17->selenium) (1.2.0)\n",
      "Requirement already satisfied: sortedcontainers in c:\\programdata\\anaconda3\\lib\\site-packages (from trio~=0.17->selenium) (2.3.0)\n",
      "Requirement already satisfied: attrs>=19.2.0 in c:\\programdata\\anaconda3\\lib\\site-packages (from trio~=0.17->selenium) (20.3.0)\n",
      "Requirement already satisfied: pycparser in c:\\programdata\\anaconda3\\lib\\site-packages (from cffi>=1.14->trio~=0.17->selenium) (2.20)\n",
      "Requirement already satisfied: wsproto>=0.14 in c:\\programdata\\anaconda3\\lib\\site-packages (from trio-websocket~=0.9->selenium) (1.0.0)\n",
      "Requirement already satisfied: pyOpenSSL>=0.14 in c:\\programdata\\anaconda3\\lib\\site-packages (from urllib3[secure]~=1.26->selenium) (20.0.1)\n",
      "Requirement already satisfied: certifi in c:\\programdata\\anaconda3\\lib\\site-packages (from urllib3[secure]~=1.26->selenium) (2020.12.5)\n",
      "Requirement already satisfied: cryptography>=1.3.4 in c:\\programdata\\anaconda3\\lib\\site-packages (from urllib3[secure]~=1.26->selenium) (3.4.7)\n",
      "Requirement already satisfied: six>=1.5.2 in c:\\programdata\\anaconda3\\lib\\site-packages (from pyOpenSSL>=0.14->urllib3[secure]~=1.26->selenium) (1.15.0)\n",
      "Requirement already satisfied: h11<1,>=0.9.0 in c:\\programdata\\anaconda3\\lib\\site-packages (from wsproto>=0.14->trio-websocket~=0.9->selenium) (0.12.0)\n"
     ]
    }
   ],
   "source": [
    "# question number 6\n",
    "!pip install selenium"
   ]
  },
  {
   "cell_type": "code",
   "execution_count": 24,
   "id": "d1ca4744",
   "metadata": {},
   "outputs": [],
   "source": [
    "import selenium\n",
    "from selenium import webdriver\n",
    "import pandas as pd\n",
    "import warnings\n",
    "warnings.filterwarnings(\"ignore\")"
   ]
  },
  {
   "cell_type": "code",
   "execution_count": 25,
   "id": "69280256",
   "metadata": {},
   "outputs": [],
   "source": [
    "driver = webdriver.Chrome(r'C:\\Users\\Tushar\\Downloads\\chromedriver_win32\\chromedriver.exe')"
   ]
  },
  {
   "cell_type": "code",
   "execution_count": 26,
   "id": "8dc5a27b",
   "metadata": {},
   "outputs": [],
   "source": [
    "driver = webdriver.Chrome ('chromedriver.exe')"
   ]
  },
  {
   "cell_type": "code",
   "execution_count": 27,
   "id": "e33aa501",
   "metadata": {},
   "outputs": [],
   "source": [
    "url ='https://www.myntra.com/shoes'\n",
    "driver.get(url)"
   ]
  },
  {
   "cell_type": "code",
   "execution_count": 29,
   "id": "fb13fa6c",
   "metadata": {},
   "outputs": [
    {
     "data": {
      "text/plain": [
       "<selenium.webdriver.remote.webelement.WebElement (session=\"c96406bb4946927fab30ba310a8dc2c9\", element=\"beaa4528-3ed0-4bee-ade4-717739038e14\")>"
      ]
     },
     "execution_count": 29,
     "metadata": {},
     "output_type": "execute_result"
    }
   ],
   "source": [
    "price_btn = driver.find_element_by_xpath('/html/body/div[2]/div/div[1]/main/div[3]/div[1]/section/div/div[5]/ul/li[2]/label/div')\n",
    "price_btn"
   ]
  },
  {
   "cell_type": "code",
   "execution_count": 30,
   "id": "b58466b1",
   "metadata": {},
   "outputs": [],
   "source": [
    "price_btn.click() "
   ]
  },
  {
   "cell_type": "code",
   "execution_count": 31,
   "id": "6b2ce50a",
   "metadata": {},
   "outputs": [
    {
     "data": {
      "text/plain": [
       "<selenium.webdriver.remote.webelement.WebElement (session=\"c96406bb4946927fab30ba310a8dc2c9\", element=\"937bdc6d-77ff-4432-9c9f-3ef309d07d30\")>"
      ]
     },
     "execution_count": 31,
     "metadata": {},
     "output_type": "execute_result"
    }
   ],
   "source": [
    "color_btn = driver.find_element_by_xpath('/html/body/div[2]/div/div[1]/main/div[3]/div[1]/section/div/div[6]/ul/li[1]/label/div')\n",
    "color_btn"
   ]
  },
  {
   "cell_type": "code",
   "execution_count": 32,
   "id": "e55873e2",
   "metadata": {},
   "outputs": [],
   "source": [
    "color_btn.click() "
   ]
  },
  {
   "cell_type": "code",
   "execution_count": 34,
   "id": "819a08a6",
   "metadata": {},
   "outputs": [
    {
     "data": {
      "text/plain": [
       "0"
      ]
     },
     "execution_count": 34,
     "metadata": {},
     "output_type": "execute_result"
    }
   ],
   "source": [
    "title_tags = driver.find_elements_by_xpath('//a[@class=\"product-price\"]')\n",
    "len(title_tags)"
   ]
  },
  {
   "cell_type": "code",
   "execution_count": null,
   "id": "391e4885",
   "metadata": {},
   "outputs": [],
   "source": []
  }
 ],
 "metadata": {
  "kernelspec": {
   "display_name": "Python 3",
   "language": "python",
   "name": "python3"
  },
  "language_info": {
   "codemirror_mode": {
    "name": "ipython",
    "version": 3
   },
   "file_extension": ".py",
   "mimetype": "text/x-python",
   "name": "python",
   "nbconvert_exporter": "python",
   "pygments_lexer": "ipython3",
   "version": "3.8.8"
  }
 },
 "nbformat": 4,
 "nbformat_minor": 5
}
