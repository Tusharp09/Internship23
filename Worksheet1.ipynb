{
 "cells": [
  {
   "cell_type": "code",
   "execution_count": 9,
   "id": "e2dbe413",
   "metadata": {},
   "outputs": [
    {
     "name": "stdout",
     "output_type": "stream",
     "text": [
      "Enter number:24\n",
      "1 2 3 4 6 8 12 24 "
     ]
    }
   ],
   "source": [
    "# for for finding factorial of number\n",
    "n = int(input('Enter number:'))\n",
    "for i in range (1, n+1):\n",
    "    if not n%i:\n",
    "        print(i,end=' ')"
   ]
  },
  {
   "cell_type": "code",
   "execution_count": 17,
   "id": "3aa9ddeb",
   "metadata": {},
   "outputs": [
    {
     "name": "stdout",
     "output_type": "stream",
     "text": [
      "Enter number5\n",
      "5 is a prime number\n"
     ]
    }
   ],
   "source": [
    "# for check number is prime or composite\n",
    "number = int(input(\"Enter number\"))\n",
    "if number > 1:\n",
    "    for i in range(2,int(number/2)+1):\n",
    "        if(number % i == 0):\n",
    "            print(number,\"is not a prime number\")\n",
    "            break\n",
    "        else:\n",
    "            print(number,\"is a prime number\")"
   ]
  },
  {
   "cell_type": "code",
   "execution_count": 1,
   "id": "2ab17ee4",
   "metadata": {},
   "outputs": [
    {
     "name": "stdout",
     "output_type": "stream",
     "text": [
      "Enter your string:mom\n",
      "This is a palindrome\n"
     ]
    }
   ],
   "source": [
    "# to check given string is palindrome or not\n",
    "string = input(\"Enter your string:\")\n",
    "if(string == string[::-1]):\n",
    "    print(\"This is a palindrome\")\n",
    "else:\n",
    "    print(\"This is not palindrome\")\n",
    "        "
   ]
  },
  {
   "cell_type": "code",
   "execution_count": 24,
   "id": "06ac92c4",
   "metadata": {},
   "outputs": [
    {
     "name": "stdout",
     "output_type": "stream",
     "text": [
      "Input length of shorter side or traingle:\n",
      "a: 3\n",
      "b: 4\n",
      "Hypotenuse is: 5.0\n"
     ]
    }
   ],
   "source": [
    "# to find third side of right angle triangle\n",
    "from math import sqrt\n",
    "print(\"Input length of shorter side or traingle:\")\n",
    "a=float(input(\"a: \"))\n",
    "b=float(input(\"b: \"))\n",
    "c=sqrt(a**2 + b**2)\n",
    "print(\"Hypotenuse is:\",c)"
   ]
  },
  {
   "cell_type": "code",
   "execution_count": null,
   "id": "5afe46c4",
   "metadata": {},
   "outputs": [],
   "source": []
  }
 ],
 "metadata": {
  "kernelspec": {
   "display_name": "Python 3",
   "language": "python",
   "name": "python3"
  },
  "language_info": {
   "codemirror_mode": {
    "name": "ipython",
    "version": 3
   },
   "file_extension": ".py",
   "mimetype": "text/x-python",
   "name": "python",
   "nbconvert_exporter": "python",
   "pygments_lexer": "ipython3",
   "version": "3.8.8"
  }
 },
 "nbformat": 4,
 "nbformat_minor": 5
}
